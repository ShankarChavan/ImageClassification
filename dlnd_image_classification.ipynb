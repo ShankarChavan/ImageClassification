{
 "cells": [
  {
   "cell_type": "markdown",
   "metadata": {
    "collapsed": true,
    "deletable": true,
    "editable": true
   },
   "source": [
    "# Image Classification\n",
    "In this project, you'll classify images from the [CIFAR-10 dataset](https://www.cs.toronto.edu/~kriz/cifar.html).  The dataset consists of airplanes, dogs, cats, and other objects. You'll preprocess the images, then train a convolutional neural network on all the samples. The images need to be normalized and the labels need to be one-hot encoded.  You'll get to apply what you learned and build a convolutional, max pooling, dropout, and fully connected layers.  At the end, you'll get to see your neural network's predictions on the sample images.\n",
    "## Get the Data\n",
    "Run the following cell to download the [CIFAR-10 dataset for python](https://www.cs.toronto.edu/~kriz/cifar-10-python.tar.gz)."
   ]
  },
  {
   "cell_type": "code",
   "execution_count": 1,
   "metadata": {
    "collapsed": false,
    "deletable": true,
    "editable": true
   },
   "outputs": [
    {
     "name": "stdout",
     "output_type": "stream",
     "text": [
      "All files found!\n"
     ]
    }
   ],
   "source": [
    "\"\"\"\n",
    "DON'T MODIFY ANYTHING IN THIS CELL THAT IS BELOW THIS LINE\n",
    "\"\"\"\n",
    "from urllib.request import urlretrieve\n",
    "from os.path import isfile, isdir\n",
    "from tqdm import tqdm\n",
    "import problem_unittests as tests\n",
    "import tarfile\n",
    "\n",
    "cifar10_dataset_folder_path = 'cifar-10-batches-py'\n",
    "\n",
    "# Use Floyd's cifar-10 dataset if present\n",
    "floyd_cifar10_location = '/input/cifar-10/python.tar.gz'\n",
    "if isfile(floyd_cifar10_location):\n",
    "    tar_gz_path = floyd_cifar10_location\n",
    "else:\n",
    "    tar_gz_path = 'cifar-10-python.tar.gz'\n",
    "\n",
    "class DLProgress(tqdm):\n",
    "    last_block = 0\n",
    "\n",
    "    def hook(self, block_num=1, block_size=1, total_size=None):\n",
    "        self.total = total_size\n",
    "        self.update((block_num - self.last_block) * block_size)\n",
    "        self.last_block = block_num\n",
    "\n",
    "if not isfile(tar_gz_path):\n",
    "    with DLProgress(unit='B', unit_scale=True, miniters=1, desc='CIFAR-10 Dataset') as pbar:\n",
    "        urlretrieve(\n",
    "            'https://www.cs.toronto.edu/~kriz/cifar-10-python.tar.gz',\n",
    "            tar_gz_path,\n",
    "            pbar.hook)\n",
    "\n",
    "if not isdir(cifar10_dataset_folder_path):\n",
    "    with tarfile.open(tar_gz_path) as tar:\n",
    "        tar.extractall()\n",
    "        tar.close()\n",
    "\n",
    "\n",
    "tests.test_folder_path(cifar10_dataset_folder_path)"
   ]
  },
  {
   "cell_type": "markdown",
   "metadata": {
    "deletable": true,
    "editable": true
   },
   "source": [
    "## Explore the Data\n",
    "The dataset is broken into batches to prevent your machine from running out of memory.  The CIFAR-10 dataset consists of 5 batches, named `data_batch_1`, `data_batch_2`, etc.. Each batch contains the labels and images that are one of the following:\n",
    "* airplane\n",
    "* automobile\n",
    "* bird\n",
    "* cat\n",
    "* deer\n",
    "* dog\n",
    "* frog\n",
    "* horse\n",
    "* ship\n",
    "* truck\n",
    "\n",
    "Understanding a dataset is part of making predictions on the data.  Play around with the code cell below by changing the `batch_id` and `sample_id`. The `batch_id` is the id for a batch (1-5). The `sample_id` is the id for a image and label pair in the batch.\n",
    "\n",
    "Ask yourself \"What are all possible labels?\", \"What is the range of values for the image data?\", \"Are the labels in order or random?\".  Answers to questions like these will help you preprocess the data and end up with better predictions."
   ]
  },
  {
   "cell_type": "code",
   "execution_count": 2,
   "metadata": {
    "collapsed": false,
    "deletable": true,
    "editable": true
   },
   "outputs": [
    {
     "name": "stdout",
     "output_type": "stream",
     "text": [
      "\n",
      "Stats of batch 1:\n",
      "Samples: 10000\n",
      "Label Counts: {0: 1005, 1: 974, 2: 1032, 3: 1016, 4: 999, 5: 937, 6: 1030, 7: 1001, 8: 1025, 9: 981}\n",
      "First 20 Labels: [6, 9, 9, 4, 1, 1, 2, 7, 8, 3, 4, 7, 7, 2, 9, 9, 9, 3, 2, 6]\n",
      "\n",
      "Example of Image 5:\n",
      "Image - Min Value: 0 Max Value: 252\n",
      "Image - Shape: (32, 32, 3)\n",
      "Label - Label Id: 1 Name: automobile\n"
     ]
    },
    {
     "data": {
      "image/png": "[encoded data removed]",
      "text/plain": [
       "<matplotlib.figure.Figure at 0x7fe36ff559e8>"
      ]
     },
     "metadata": {
      "image/png": {
       "height": 250,
       "width": 253
      }
     },
     "output_type": "display_data"
    }
   ],
   "source": [
    "%matplotlib inline\n",
    "%config InlineBackend.figure_format = 'retina'\n",
    "\n",
    "import helper\n",
    "import numpy as np\n",
    "\n",
    "# Explore the dataset\n",
    "batch_id = 1\n",
    "sample_id = 5\n",
    "helper.display_stats(cifar10_dataset_folder_path, batch_id, sample_id)"
   ]
  },
  {
   "cell_type": "markdown",
   "metadata": {
    "deletable": true,
    "editable": true
   },
   "source": [
    "## Implement Preprocess Functions\n",
    "### Normalize\n",
    "In the cell below, implement the `normalize` function to take in image data, `x`, and return it as a normalized Numpy array. The values should be in the range of 0 to 1, inclusive.  The return object should be the same shape as `x`."
   ]
  },
  {
   "cell_type": "code",
   "execution_count": 3,
   "metadata": {
    "collapsed": false,
    "deletable": true,
    "editable": true
   },
   "outputs": [
    {
     "name": "stdout",
     "output_type": "stream",
     "text": [
      "Tests Passed\n"
     ]
    }
   ],
   "source": [
    "def normalize(x):\n",
    "    \"\"\"\n",
    "    Normalize a list of sample image data in the range of 0 to 1\n",
    "    : x: List of image data.  The image shape is (32, 32, 3)\n",
    "    : return: Numpy array of normalize data\n",
    "    \"\"\"\n",
    "    # TODO: Implement Function\n",
    "    a=0.1\n",
    "    b=0.9\n",
    "    x_min=0\n",
    "    x_max=255\n",
    "    return (a+((x-x_min)*(b-a))/(x_max-x_min))\n",
    "\n",
    "\n",
    "\"\"\"\n",
    "DON'T MODIFY ANYTHING IN THIS CELL THAT IS BELOW THIS LINE\n",
    "\"\"\"\n",
    "tests.test_normalize(normalize)"
   ]
  },
  {
   "cell_type": "markdown",
   "metadata": {
    "deletable": true,
    "editable": true
   },
   "source": [
    "### One-hot encode\n",
    "Just like the previous code cell, you'll be implementing a function for preprocessing.  This time, you'll implement the `one_hot_encode` function. The input, `x`, are a list of labels.  Implement the function to return the list of labels as One-Hot encoded Numpy array.  The possible values for labels are 0 to 9. The one-hot encoding function should return the same encoding for each value between each call to `one_hot_encode`.  Make sure to save the map of encodings outside the function.\n",
    "\n",
    "Hint: Don't reinvent the wheel."
   ]
  },
  {
   "cell_type": "code",
   "execution_count": 4,
   "metadata": {
    "collapsed": false,
    "deletable": true,
    "editable": true
   },
   "outputs": [
    {
     "name": "stdout",
     "output_type": "stream",
     "text": [
      "Tests Passed\n"
     ]
    }
   ],
   "source": [
    "def one_hot_encode(x):\n",
    "    \"\"\"\n",
    "    One hot encode a list of sample labels. Return a one-hot encoded vector for each label.\n",
    "    : x: List of sample Labels\n",
    "    : return: Numpy array of one-hot encoded labels\n",
    "    \"\"\"\n",
    "    # TODO: Implement Function\n",
    "    y=np.zeros((len(x),10))\n",
    "    for i in range(len(x)):\n",
    "        y[i,x[i]]=1\n",
    "    \n",
    "    return y\n",
    "\n",
    "\n",
    "\"\"\"\n",
    "DON'T MODIFY ANYTHING IN THIS CELL THAT IS BELOW THIS LINE\n",
    "\"\"\"\n",
    "tests.test_one_hot_encode(one_hot_encode)"
   ]
  },
  {
   "cell_type": "markdown",
   "metadata": {
    "deletable": true,
    "editable": true
   },
   "source": [
    "### Randomize Data\n",
    "As you saw from exploring the data above, the order of the samples are randomized.  It doesn't hurt to randomize it again, but you don't need to for this dataset."
   ]
  },
  {
   "cell_type": "markdown",
   "metadata": {
    "deletable": true,
    "editable": true
   },
   "source": [
    "## Preprocess all the data and save it\n",
    "Running the code cell below will preprocess all the CIFAR-10 data and save it to file. The code below also uses 10% of the training data for validation."
   ]
  },
  {
   "cell_type": "code",
   "execution_count": 5,
   "metadata": {
    "collapsed": false,
    "deletable": true,
    "editable": true
   },
   "outputs": [],
   "source": [
    "\"\"\"\n",
    "DON'T MODIFY ANYTHING IN THIS CELL\n",
    "\"\"\"\n",
    "# Preprocess Training, Validation, and Testing Data\n",
    "helper.preprocess_and_save_data(cifar10_dataset_folder_path, normalize, one_hot_encode)"
   ]
  },
  {
   "cell_type": "markdown",
   "metadata": {
    "deletable": true,
    "editable": true
   },
   "source": [
    "# Check Point\n",
    "This is your first checkpoint.  If you ever decide to come back to this notebook or have to restart the notebook, you can start from here.  The preprocessed data has been saved to disk."
   ]
  },
  {
   "cell_type": "code",
   "execution_count": 6,
   "metadata": {
    "collapsed": true,
    "deletable": true,
    "editable": true
   },
   "outputs": [],
   "source": [
    "\"\"\"\n",
    "DON'T MODIFY ANYTHING IN THIS CELL\n",
    "\"\"\"\n",
    "import pickle\n",
    "import problem_unittests as tests\n",
    "import helper\n",
    "\n",
    "# Load the Preprocessed Validation data\n",
    "valid_features, valid_labels = pickle.load(open('preprocess_validation.p', mode='rb'))"
   ]
  },
  {
   "cell_type": "code",
   "execution_count": 7,
   "metadata": {
    "collapsed": false,
    "deletable": true,
    "editable": true
   },
   "outputs": [
    {
     "name": "stdout",
     "output_type": "stream",
     "text": [
      "validation features\n",
      "[[[[ 0.53921569  0.49215686  0.46078431]\n",
      "   [ 0.55803922  0.50784314  0.4827451 ]\n",
      "   [ 0.54862745  0.49843137  0.4827451 ]\n",
      "   ..., \n",
      "   [ 0.63333333  0.55490196  0.51098039]\n",
      "   [ 0.65215686  0.57058824  0.52039216]\n",
      "   [ 0.63333333  0.56117647  0.5172549 ]]\n",
      "\n",
      "  [[ 0.47960784  0.43882353  0.50470588]\n",
      "   [ 0.50784314  0.47019608  0.53607843]\n",
      "   [ 0.52039216  0.47960784  0.54862745]\n",
      "   ..., \n",
      "   [ 0.61137255  0.54235294  0.59254902]\n",
      "   [ 0.63333333  0.55803922  0.60509804]\n",
      "   [ 0.63333333  0.56431373  0.60509804]]\n",
      "\n",
      "  [[ 0.57686275  0.53607843  0.64588235]\n",
      "   [ 0.59254902  0.55490196  0.66156863]\n",
      "   [ 0.58627451  0.54862745  0.64901961]\n",
      "   ..., \n",
      "   [ 0.65529412  0.58313725  0.7054902 ]\n",
      "   [ 0.66784314  0.58941176  0.70862745]\n",
      "   [ 0.67411765  0.60196078  0.70862745]]\n",
      "\n",
      "  ..., \n",
      "  [[ 0.49215686  0.44509804  0.42      ]\n",
      "   [ 0.50470588  0.45137255  0.42313725]\n",
      "   [ 0.33843137  0.31019608  0.24745098]\n",
      "   ..., \n",
      "   [ 0.62705882  0.52980392  0.47647059]\n",
      "   [ 0.59568627  0.49529412  0.42313725]\n",
      "   [ 0.55803922  0.46392157  0.37294118]]\n",
      "\n",
      "  [[ 0.36666667  0.34156863  0.31960784]\n",
      "   [ 0.39490196  0.35411765  0.3227451 ]\n",
      "   [ 0.33215686  0.30392157  0.24117647]\n",
      "   ..., \n",
      "   [ 0.60823529  0.51411765  0.43254902]\n",
      "   [ 0.62078431  0.52039216  0.41372549]\n",
      "   [ 0.59568627  0.50156863  0.38862745]]\n",
      "\n",
      "  [[ 0.49215686  0.45137255  0.44823529]\n",
      "   [ 0.50784314  0.4545098   0.44823529]\n",
      "   [ 0.42941176  0.3854902   0.33529412]\n",
      "   ..., \n",
      "   [ 0.51411765  0.43254902  0.34470588]\n",
      "   [ 0.50784314  0.41686275  0.30078431]\n",
      "   [ 0.5454902   0.46078431  0.34470588]]]\n",
      "\n",
      "\n",
      " [[[ 0.41372549  0.44196078  0.36352941]\n",
      "   [ 0.4827451   0.49529412  0.44196078]\n",
      "   [ 0.37294118  0.37294118  0.33843137]\n",
      "   ..., \n",
      "   [ 0.33529412  0.34470588  0.31647059]\n",
      "   [ 0.31960784  0.32901961  0.30078431]\n",
      "   [ 0.31960784  0.32901961  0.30078431]]\n",
      "\n",
      "  [[ 0.36980392  0.41058824  0.3227451 ]\n",
      "   [ 0.33843137  0.36352941  0.30705882]\n",
      "   [ 0.28823529  0.30078431  0.26941176]\n",
      "   ..., \n",
      "   [ 0.34470588  0.35411765  0.32588235]\n",
      "   [ 0.33843137  0.34784314  0.31960784]\n",
      "   [ 0.3572549   0.36666667  0.33843137]]\n",
      "\n",
      "  [[ 0.36352941  0.41372549  0.32901961]\n",
      "   [ 0.36039216  0.39803922  0.33529412]\n",
      "   [ 0.34156863  0.36980392  0.32588235]\n",
      "   ..., \n",
      "   [ 0.33215686  0.34156863  0.31333333]\n",
      "   [ 0.32901961  0.33843137  0.31019608]\n",
      "   [ 0.36039216  0.36980392  0.34156863]]\n",
      "\n",
      "  ..., \n",
      "  [[ 0.30078431  0.34156863  0.34784314]\n",
      "   [ 0.4827451   0.5172549   0.55176471]\n",
      "   [ 0.52039216  0.55490196  0.58941176]\n",
      "   ..., \n",
      "   [ 0.42941176  0.48588235  0.47647059]\n",
      "   [ 0.36352941  0.42313725  0.3854902 ]\n",
      "   [ 0.28823529  0.37607843  0.29764706]]\n",
      "\n",
      "  [[ 0.23803922  0.26        0.27568627]\n",
      "   [ 0.34470588  0.36352941  0.39490196]\n",
      "   [ 0.40117647  0.41686275  0.44509804]\n",
      "   ..., \n",
      "   [ 0.56117647  0.61764706  0.65843137]\n",
      "   [ 0.49529412  0.54862745  0.56745098]\n",
      "   [ 0.39490196  0.46705882  0.4545098 ]]\n",
      "\n",
      "  [[ 0.21294118  0.20980392  0.22235294]\n",
      "   [ 0.28509804  0.28196078  0.30705882]\n",
      "   [ 0.3572549   0.35411765  0.36666667]\n",
      "   ..., \n",
      "   [ 0.52039216  0.58        0.60196078]\n",
      "   [ 0.53294118  0.57686275  0.59568627]\n",
      "   [ 0.50784314  0.56431373  0.57058824]]]\n",
      "\n",
      "\n",
      " [[[ 0.15960784  0.20039216  0.14705882]\n",
      "   [ 0.16588235  0.21921569  0.16588235]\n",
      "   [ 0.18470588  0.25372549  0.20039216]\n",
      "   ..., \n",
      "   [ 0.33529412  0.48901961  0.51098039]\n",
      "   [ 0.33843137  0.48901961  0.50784314]\n",
      "   [ 0.3227451   0.47019608  0.48901961]]\n",
      "\n",
      "  [[ 0.17215686  0.1972549   0.14392157]\n",
      "   [ 0.16588235  0.19411765  0.13764706]\n",
      "   [ 0.17215686  0.20980392  0.14392157]\n",
      "   ..., \n",
      "   [ 0.32588235  0.47019608  0.49529412]\n",
      "   [ 0.33529412  0.47333333  0.48901961]\n",
      "   [ 0.31333333  0.44823529  0.45764706]]\n",
      "\n",
      "  [[ 0.17529412  0.21607843  0.15333333]\n",
      "   [ 0.16901961  0.20980392  0.15019608]\n",
      "   [ 0.17529412  0.21294118  0.15647059]\n",
      "   ..., \n",
      "   [ 0.30078431  0.44196078  0.45137255]\n",
      "   [ 0.31019608  0.44196078  0.44823529]\n",
      "   [ 0.30078431  0.42941176  0.42941176]]\n",
      "\n",
      "  ..., \n",
      "  [[ 0.2945098   0.24431373  0.17215686]\n",
      "   [ 0.28823529  0.24431373  0.18470588]\n",
      "   [ 0.27254902  0.25058824  0.18784314]\n",
      "   ..., \n",
      "   [ 0.14078431  0.11882353  0.11254902]\n",
      "   [ 0.13764706  0.14392157  0.12509804]\n",
      "   [ 0.17843137  0.2254902   0.19411765]]\n",
      "\n",
      "  [[ 0.29764706  0.26627451  0.19411765]\n",
      "   [ 0.25372549  0.24117647  0.16901961]\n",
      "   [ 0.24117647  0.24431373  0.17215686]\n",
      "   ..., \n",
      "   [ 0.19098039  0.20980392  0.1972549 ]\n",
      "   [ 0.19411765  0.23176471  0.21607843]\n",
      "   [ 0.18470588  0.25686275  0.23490196]]\n",
      "\n",
      "  [[ 0.31647059  0.26313725  0.19098039]\n",
      "   [ 0.25372549  0.21921569  0.1627451 ]\n",
      "   [ 0.26941176  0.24431373  0.18470588]\n",
      "   ..., \n",
      "   [ 0.30705882  0.37607843  0.36666667]\n",
      "   [ 0.2254902   0.31333333  0.30078431]\n",
      "   [ 0.19098039  0.2945098   0.28196078]]]\n",
      "\n",
      "\n",
      " ..., \n",
      " [[[ 0.20980392  0.65843137  0.8372549 ]\n",
      "   [ 0.2254902   0.65215686  0.84980392]\n",
      "   [ 0.23176471  0.65215686  0.85607843]\n",
      "   ..., \n",
      "   [ 0.41058824  0.65529412  0.78705882]\n",
      "   [ 0.34784314  0.56117647  0.71803922]\n",
      "   [ 0.37921569  0.56431373  0.69294118]]\n",
      "\n",
      "  [[ 0.27882353  0.67098039  0.83411765]\n",
      "   [ 0.23803922  0.6772549   0.88431373]\n",
      "   [ 0.25686275  0.67411765  0.85294118]\n",
      "   ..., \n",
      "   [ 0.58941176  0.67098039  0.72745098]\n",
      "   [ 0.54235294  0.65529412  0.74627451]\n",
      "   [ 0.46392157  0.56745098  0.64901961]]\n",
      "\n",
      "  [[ 0.40745098  0.71803922  0.84352941]\n",
      "   [ 0.30078431  0.69294118  0.89058824]\n",
      "   [ 0.31647059  0.70235294  0.86862745]\n",
      "   ..., \n",
      "   [ 0.68980392  0.71176471  0.74627451]\n",
      "   [ 0.47333333  0.52352941  0.56117647]\n",
      "   [ 0.29137255  0.34784314  0.38235294]]\n",
      "\n",
      "  ..., \n",
      "  [[ 0.32901961  0.34784314  0.34156863]\n",
      "   [ 0.26627451  0.29764706  0.31333333]\n",
      "   [ 0.26941176  0.31333333  0.35098039]\n",
      "   ..., \n",
      "   [ 0.15333333  0.2254902   0.30078431]\n",
      "   [ 0.16588235  0.21294118  0.26      ]\n",
      "   [ 0.20352941  0.25058824  0.25372549]]\n",
      "\n",
      "  [[ 0.29137255  0.31333333  0.33529412]\n",
      "   [ 0.27254902  0.31960784  0.36980392]\n",
      "   [ 0.27882353  0.34784314  0.42313725]\n",
      "   ..., \n",
      "   [ 0.17529412  0.25058824  0.32588235]\n",
      "   [ 0.15333333  0.20980392  0.26627451]\n",
      "   [ 0.12196078  0.17215686  0.20039216]]\n",
      "\n",
      "  [[ 0.23803922  0.27568627  0.32901961]\n",
      "   [ 0.24431373  0.30705882  0.37607843]\n",
      "   [ 0.25372549  0.34156863  0.42941176]\n",
      "   ..., \n",
      "   [ 0.18470588  0.26313725  0.34156863]\n",
      "   [ 0.16588235  0.23490196  0.30705882]\n",
      "   [ 0.13764706  0.1972549   0.25686275]]]\n",
      "\n",
      "\n",
      " [[[ 0.69294118  0.76196078  0.85294118]\n",
      "   [ 0.68352941  0.75254902  0.84039216]\n",
      "   [ 0.68039216  0.74941176  0.8372549 ]\n",
      "   ..., \n",
      "   [ 0.64901961  0.71176471  0.8027451 ]\n",
      "   [ 0.63960784  0.70862745  0.79647059]\n",
      "   [ 0.63019608  0.70862745  0.79019608]]\n",
      "\n",
      "  [[ 0.70862745  0.75882353  0.84980392]\n",
      "   [ 0.69921569  0.74941176  0.84039216]\n",
      "   [ 0.69607843  0.74627451  0.8372549 ]\n",
      "   ..., \n",
      "   [ 0.6427451   0.70235294  0.79019608]\n",
      "   [ 0.63647059  0.69921569  0.78392157]\n",
      "   [ 0.62392157  0.69607843  0.77764706]]\n",
      "\n",
      "  [[ 0.75254902  0.78705882  0.8654902 ]\n",
      "   [ 0.74313725  0.77764706  0.85294118]\n",
      "   [ 0.74        0.7745098   0.84980392]\n",
      "   ..., \n",
      "   [ 0.64901961  0.69921569  0.78078431]\n",
      "   [ 0.63960784  0.69607843  0.77764706]\n",
      "   [ 0.63019608  0.69921569  0.7745098 ]]\n",
      "\n",
      "  ..., \n",
      "  [[ 0.74941176  0.72431373  0.66784314]\n",
      "   [ 0.73686275  0.71176471  0.64901961]\n",
      "   [ 0.73686275  0.71490196  0.6427451 ]\n",
      "   ..., \n",
      "   [ 0.52352941  0.51411765  0.49843137]\n",
      "   [ 0.60823529  0.59568627  0.57058824]\n",
      "   [ 0.62705882  0.61137255  0.57372549]]\n",
      "\n",
      "  [[ 0.72117647  0.69607843  0.63333333]\n",
      "   [ 0.69294118  0.66784314  0.59882353]\n",
      "   [ 0.66470588  0.63960784  0.56117647]\n",
      "   ..., \n",
      "   [ 0.65843137  0.63647059  0.60196078]\n",
      "   [ 0.64901961  0.63019608  0.58941176]\n",
      "   [ 0.64901961  0.63019608  0.58313725]]\n",
      "\n",
      "  [[ 0.72117647  0.69294118  0.6427451 ]\n",
      "   [ 0.69294118  0.66784314  0.60823529]\n",
      "   [ 0.65843137  0.63333333  0.56745098]\n",
      "   ..., \n",
      "   [ 0.71176471  0.6772549   0.63019608]\n",
      "   [ 0.71490196  0.69294118  0.63647059]\n",
      "   [ 0.71176471  0.69607843  0.63647059]]]\n",
      "\n",
      "\n",
      " [[[ 0.81843137  0.81843137  0.84980392]\n",
      "   [ 0.84039216  0.84352941  0.87490196]\n",
      "   [ 0.83411765  0.84039216  0.87490196]\n",
      "   ..., \n",
      "   [ 0.78078431  0.78705882  0.83098039]\n",
      "   [ 0.79333333  0.79960784  0.83411765]\n",
      "   [ 0.79647059  0.79960784  0.83098039]]\n",
      "\n",
      "  [[ 0.79647059  0.79333333  0.81843137]\n",
      "   [ 0.84980392  0.84980392  0.88117647]\n",
      "   [ 0.83098039  0.83411765  0.87176471]\n",
      "   ..., \n",
      "   [ 0.79960784  0.79960784  0.84039216]\n",
      "   [ 0.81215686  0.81529412  0.84666667]\n",
      "   [ 0.75882353  0.76196078  0.79019608]]\n",
      "\n",
      "  [[ 0.76823529  0.74627451  0.76196078]\n",
      "   [ 0.83411765  0.82784314  0.84980392]\n",
      "   [ 0.82470588  0.83098039  0.8654902 ]\n",
      "   ..., \n",
      "   [ 0.79019608  0.79019608  0.82784314]\n",
      "   [ 0.79019608  0.78705882  0.82784314]\n",
      "   [ 0.73372549  0.73686275  0.7745098 ]]\n",
      "\n",
      "  ..., \n",
      "  [[ 0.57058824  0.54862745  0.52352941]\n",
      "   [ 0.53921569  0.52352941  0.49843137]\n",
      "   [ 0.51411765  0.49843137  0.47647059]\n",
      "   ..., \n",
      "   [ 0.8027451   0.79647059  0.78392157]\n",
      "   [ 0.82156863  0.81529412  0.80588235]\n",
      "   [ 0.85607843  0.85607843  0.84666667]]\n",
      "\n",
      "  [[ 0.52980392  0.51411765  0.49529412]\n",
      "   [ 0.50784314  0.49843137  0.47647059]\n",
      "   [ 0.49215686  0.47960784  0.46078431]\n",
      "   ..., \n",
      "   [ 0.66784314  0.66470588  0.65843137]\n",
      "   [ 0.73372549  0.73058824  0.72117647]\n",
      "   [ 0.76509804  0.76196078  0.74941176]]\n",
      "\n",
      "  [[ 0.4827451   0.47333333  0.45764706]\n",
      "   [ 0.47019608  0.46392157  0.44509804]\n",
      "   [ 0.47647059  0.46392157  0.44823529]\n",
      "   ..., \n",
      "   [ 0.66156863  0.65529412  0.6427451 ]\n",
      "   [ 0.6145098   0.6145098   0.60823529]\n",
      "   [ 0.61137255  0.61137255  0.60509804]]]]\n",
      "validation labels\n",
      "[[ 0.  0.  0. ...,  0.  0.  0.]\n",
      " [ 0.  0.  1. ...,  0.  0.  0.]\n",
      " [ 0.  0.  1. ...,  0.  0.  0.]\n",
      " ..., \n",
      " [ 0.  0.  0. ...,  0.  0.  1.]\n",
      " [ 0.  1.  0. ...,  0.  0.  0.]\n",
      " [ 0.  1.  0. ...,  0.  0.  0.]]\n"
     ]
    }
   ],
   "source": [
    "print ('validation features')\n",
    "print (valid_features)\n",
    "print ('validation labels')\n",
    "print (valid_labels)"
   ]
  },
  {
   "cell_type": "markdown",
   "metadata": {
    "deletable": true,
    "editable": true
   },
   "source": [
    "## Build the network\n",
    "For the neural network, you'll build each layer into a function.  Most of the code you've seen has been outside of functions. To test your code more thoroughly, we require that you put each layer in a function.  This allows us to give you better feedback and test for simple mistakes using our unittests before you submit your project.\n",
    "\n",
    ">**Note:** If you're finding it hard to dedicate enough time for this course each week, we've provided a small shortcut to this part of the project. In the next couple of problems, you'll have the option to use classes from the [TensorFlow Layers](https://www.tensorflow.org/api_docs/python/tf/layers) or [TensorFlow Layers (contrib)](https://www.tensorflow.org/api_guides/python/contrib.layers) packages to build each layer, except the layers you build in the \"Convolutional and Max Pooling Layer\" section.  TF Layers is similar to Keras's and TFLearn's abstraction to layers, so it's easy to pickup.\n",
    "\n",
    ">However, if you would like to get the most out of this course, try to solve all the problems _without_ using anything from the TF Layers packages. You **can** still use classes from other packages that happen to have the same name as ones you find in TF Layers! For example, instead of using the TF Layers version of the `conv2d` class, [tf.layers.conv2d](https://www.tensorflow.org/api_docs/python/tf/layers/conv2d), you would want to use the TF Neural Network version of `conv2d`, [tf.nn.conv2d](https://www.tensorflow.org/api_docs/python/tf/nn/conv2d). \n",
    "\n",
    "Let's begin!\n",
    "\n",
    "### Input\n",
    "The neural network needs to read the image data, one-hot encoded labels, and dropout keep probability. Implement the following functions\n",
    "* Implement `neural_net_image_input`\n",
    " * Return a [TF Placeholder](https://www.tensorflow.org/api_docs/python/tf/placeholder)\n",
    " * Set the shape using `image_shape` with batch size set to `None`.\n",
    " * Name the TensorFlow placeholder \"x\" using the TensorFlow `name` parameter in the [TF Placeholder](https://www.tensorflow.org/api_docs/python/tf/placeholder).\n",
    "* Implement `neural_net_label_input`\n",
    " * Return a [TF Placeholder](https://www.tensorflow.org/api_docs/python/tf/placeholder)\n",
    " * Set the shape using `n_classes` with batch size set to `None`.\n",
    " * Name the TensorFlow placeholder \"y\" using the TensorFlow `name` parameter in the [TF Placeholder](https://www.tensorflow.org/api_docs/python/tf/placeholder).\n",
    "* Implement `neural_net_keep_prob_input`\n",
    " * Return a [TF Placeholder](https://www.tensorflow.org/api_docs/python/tf/placeholder) for dropout keep probability.\n",
    " * Name the TensorFlow placeholder \"keep_prob\" using the TensorFlow `name` parameter in the [TF Placeholder](https://www.tensorflow.org/api_docs/python/tf/placeholder).\n",
    "\n",
    "These names will be used at the end of the project to load your saved model.\n",
    "\n",
    "Note: `None` for shapes in TensorFlow allow for a dynamic size."
   ]
  },
  {
   "cell_type": "code",
   "execution_count": 8,
   "metadata": {
    "collapsed": false,
    "deletable": true,
    "editable": true
   },
   "outputs": [
    {
     "name": "stdout",
     "output_type": "stream",
     "text": [
      "Image Input Tests Passed.\n",
      "Label Input Tests Passed.\n",
      "Keep Prob Tests Passed.\n"
     ]
    }
   ],
   "source": [
    "import tensorflow as tf\n",
    "\n",
    "def neural_net_image_input(image_shape):\n",
    "    \"\"\"\n",
    "    Return a Tensor for a bach of image input\n",
    "    : image_shape: Shape of the images\n",
    "    : return: Tensor for image input.\n",
    "    \"\"\"\n",
    "    # TODO: Implement Function\n",
    "    return tf.placeholder(tf.float32,[None]+list(image_shape),'x')\n",
    "\n",
    "\n",
    "def neural_net_label_input(n_classes):\n",
    "    \"\"\"\n",
    "    Return a Tensor for a batch of label input\n",
    "    : n_classes: Number of classes\n",
    "    : return: Tensor for label input.\n",
    "    \"\"\"\n",
    "    # TODO: Implement Function\n",
    "    return tf.placeholder(tf.float32,[None,n_classes],'y')\n",
    "\n",
    "\n",
    "def neural_net_keep_prob_input():\n",
    "    \"\"\"\n",
    "    Return a Tensor for keep probability\n",
    "    : return: Tensor for keep probability.\n",
    "    \"\"\"\n",
    "    # TODO: Implement Function\n",
    "    return tf.placeholder(tf.float32,None,'keep_prob')\n",
    "\n",
    "\n",
    "\"\"\"\n",
    "DON'T MODIFY ANYTHING IN THIS CELL THAT IS BELOW THIS LINE\n",
    "\"\"\"\n",
    "tf.reset_default_graph()\n",
    "tests.test_nn_image_inputs(neural_net_image_input)\n",
    "tests.test_nn_label_inputs(neural_net_label_input)\n",
    "tests.test_nn_keep_prob_inputs(neural_net_keep_prob_input)"
   ]
  },
  {
   "cell_type": "markdown",
   "metadata": {
    "deletable": true,
    "editable": true
   },
   "source": [
    "### Convolution and Max Pooling Layer\n",
    "Convolution layers have a lot of success with images. For this code cell, you should implement the function `conv2d_maxpool` to apply convolution then max pooling:\n",
    "* Create the weight and bias using `conv_ksize`, `conv_num_outputs` and the shape of `x_tensor`.\n",
    "* Apply a convolution to `x_tensor` using weight and `conv_strides`.\n",
    " * We recommend you use same padding, but you're welcome to use any padding.\n",
    "* Add bias\n",
    "* Add a nonlinear activation to the convolution.\n",
    "* Apply Max Pooling using `pool_ksize` and `pool_strides`.\n",
    " * We recommend you use same padding, but you're welcome to use any padding.\n",
    "\n",
    "**Note:** You **can't** use [TensorFlow Layers](https://www.tensorflow.org/api_docs/python/tf/layers) or [TensorFlow Layers (contrib)](https://www.tensorflow.org/api_guides/python/contrib.layers) for **this** layer, but you can still use TensorFlow's [Neural Network](https://www.tensorflow.org/api_docs/python/tf/nn) package. You may still use the shortcut option for all the **other** layers."
   ]
  },
  {
   "cell_type": "code",
   "execution_count": 9,
   "metadata": {
    "collapsed": false,
    "deletable": true,
    "editable": true
   },
   "outputs": [
    {
     "name": "stdout",
     "output_type": "stream",
     "text": [
      "Tests Passed\n"
     ]
    }
   ],
   "source": [
    "def conv2d_maxpool(x_tensor, conv_num_outputs, conv_ksize, conv_strides, pool_ksize, pool_strides):\n",
    "    \"\"\"\n",
    "    Apply convolution then max pooling to x_tensor\n",
    "    :param x_tensor: TensorFlow Tensor\n",
    "    :param conv_num_outputs: Number of outputs for the convolutional layer\n",
    "    :param conv_ksize: kernal size 2-D Tuple for the convolutional layer\n",
    "    :param conv_strides: Stride 2-D Tuple for convolution\n",
    "    :param pool_ksize: kernal size 2-D Tuple for pool\n",
    "    :param pool_strides: Stride 2-D Tuple for pool\n",
    "    : return: A tensor that represents convolution and max pooling of x_tensor\n",
    "    \"\"\"\n",
    "    # TODO: Implement Function    \n",
    "    inp_depth=x_tensor.get_shape().as_list()[-1]\n",
    "    \n",
    "    #filter_bias=zeros(Num_of_output) bias initialised with zeros\n",
    "    f_bias=tf.Variable(tf.zeros(conv_num_outputs))\n",
    "    \n",
    "    # filtershape=(height, width, input_depth, output_depth)\n",
    "    shp=[conv_ksize[0],conv_ksize[1],inp_depth,conv_num_outputs] \n",
    "    \n",
    "    f_weights=tf.Variable(tf.random_normal(shp)) #filter weights initialized randomly\n",
    "    \n",
    "    #step1: apply conv on input tensors\n",
    "    # signature: tf.nn.conv2d(input, filter, strides, padding, use_cudnn_on_gpu=None, data_format=None, name=None)\n",
    "    conv_l=tf.nn.conv2d(x_tensor,f_weights,[1,conv_strides[0],conv_strides[1],1],'SAME')\n",
    "    \n",
    "    #step2: Add bias to the conv\n",
    "    #Signature: tf.nn.bias_add(value, bias, data_format=None, name=None)\n",
    "    conv_l=tf.nn.bias_add(conv_l,f_bias)\n",
    "    \n",
    "    #step3: Add nonlinear function\n",
    "    #Signature: tf.nn.relu(features, name=None)\n",
    "    conv_l=tf.nn.relu(conv_l)\n",
    "    \n",
    "    #step 4: add Max_pool\n",
    "    #Signature: tf.nn.max_pool(value, ksize, strides, padding, data_format='NHWC', name=None)\n",
    "    return tf.nn.max_pool(conv_l,[1,pool_ksize[0],pool_ksize[1],1],[1,pool_strides[0],pool_strides[1],1],'SAME')\n",
    "\n",
    "\"\"\"\n",
    "DON'T MODIFY ANYTHING IN THIS CELL THAT IS BELOW THIS LINE\n",
    "\"\"\"\n",
    "tests.test_con_pool(conv2d_maxpool)"
   ]
  },
  {
   "cell_type": "markdown",
   "metadata": {
    "deletable": true,
    "editable": true
   },
   "source": [
    "### Flatten Layer\n",
    "Implement the `flatten` function to change the dimension of `x_tensor` from a 4-D tensor to a 2-D tensor.  The output should be the shape (*Batch Size*, *Flattened Image Size*). Shortcut option: you can use classes from the [TensorFlow Layers](https://www.tensorflow.org/api_docs/python/tf/layers) or [TensorFlow Layers (contrib)](https://www.tensorflow.org/api_guides/python/contrib.layers) packages for this layer. For more of a challenge, only use other TensorFlow packages."
   ]
  },
  {
   "cell_type": "code",
   "execution_count": 10,
   "metadata": {
    "collapsed": false,
    "deletable": true,
    "editable": true
   },
   "outputs": [
    {
     "name": "stdout",
     "output_type": "stream",
     "text": [
      "Tests Passed\n"
     ]
    }
   ],
   "source": [
    "def flatten(x_tensor):\n",
    "    \"\"\"\n",
    "    Flatten x_tensor to (Batch Size, Flattened Image Size)\n",
    "    : x_tensor: A tensor of size (Batch Size, ...), where ... are the image dimensions.\n",
    "    : return: A tensor of size (Batch Size, Flattened Image Size).\n",
    "    \"\"\"\n",
    "    # TODO: Implement Function\n",
    "    shape = x_tensor.get_shape().as_list()    \n",
    "    return tf.reshape(x_tensor, [-1, np.prod(shape[1:])])\n",
    "\n",
    "\"\"\"\n",
    "DON'T MODIFY ANYTHING IN THIS CELL THAT IS BELOW THIS LINE\n",
    "\"\"\"\n",
    "tests.test_flatten(flatten)"
   ]
  },
  {
   "cell_type": "markdown",
   "metadata": {
    "deletable": true,
    "editable": true
   },
   "source": [
    "### Fully-Connected Layer\n",
    "Implement the `fully_conn` function to apply a fully connected layer to `x_tensor` with the shape (*Batch Size*, *num_outputs*). Shortcut option: you can use classes from the [TensorFlow Layers](https://www.tensorflow.org/api_docs/python/tf/layers) or [TensorFlow Layers (contrib)](https://www.tensorflow.org/api_guides/python/contrib.layers) packages for this layer. For more of a challenge, only use other TensorFlow packages."
   ]
  },
  {
   "cell_type": "code",
   "execution_count": 21,
   "metadata": {
    "collapsed": false,
    "deletable": true,
    "editable": true
   },
   "outputs": [
    {
     "name": "stdout",
     "output_type": "stream",
     "text": [
      "Tests Passed\n"
     ]
    }
   ],
   "source": [
    "def fully_conn(x_tensor, num_outputs):\n",
    "    \"\"\"\n",
    "    Apply a fully connected layer to x_tensor using weight and bias\n",
    "    : x_tensor: A 2-D tensor where the first dimension is batch size.\n",
    "    : num_outputs: The number of output that the new tensor should be.\n",
    "    : return: A 2-D tensor where the second dimension is num_outputs.\n",
    "    \"\"\"\n",
    "    # TODO: Implement Function\n",
    "    #shape=x_tensor.get_shape().as_list()\n",
    "    #bias=tf.Variable(tf.zeros(num_outputs))\n",
    "    #weights=tf.Variable(tf.random_normal([shape[-1],num_outputs]))    \n",
    "    #return tf.nn.relu(tf.add(tf.matmul(x_tensor,weights),bias))\n",
    "    return tf.contrib.layers.fully_connected(x_tensor,\n",
    "                                             num_outputs,\n",
    "                                             weights_initializer=tf.random_normal_initializer(),\n",
    "                                             biases_initializer=tf.random_normal_initializer())\n",
    "\n",
    "\n",
    "\"\"\"\n",
    "DON'T MODIFY ANYTHING IN THIS CELL THAT IS BELOW THIS LINE\n",
    "\"\"\"\n",
    "tests.test_fully_conn(fully_conn)"
   ]
  },
  {
   "cell_type": "markdown",
   "metadata": {
    "deletable": true,
    "editable": true
   },
   "source": [
    "### Output Layer\n",
    "Implement the `output` function to apply a fully connected layer to `x_tensor` with the shape (*Batch Size*, *num_outputs*). Shortcut option: you can use classes from the [TensorFlow Layers](https://www.tensorflow.org/api_docs/python/tf/layers) or [TensorFlow Layers (contrib)](https://www.tensorflow.org/api_guides/python/contrib.layers) packages for this layer. For more of a challenge, only use other TensorFlow packages.\n",
    "\n",
    "**Note:** Activation, softmax, or cross entropy should **not** be applied to this."
   ]
  },
  {
   "cell_type": "code",
   "execution_count": 22,
   "metadata": {
    "collapsed": false,
    "deletable": true,
    "editable": true
   },
   "outputs": [
    {
     "name": "stdout",
     "output_type": "stream",
     "text": [
      "Tests Passed\n"
     ]
    }
   ],
   "source": [
    "def output(x_tensor, num_outputs):\n",
    "    \"\"\"\n",
    "    Apply a output layer to x_tensor using weight and bias\n",
    "    : x_tensor: A 2-D tensor where the first dimension is batch size.\n",
    "    : num_outputs: The number of output that the new tensor should be.\n",
    "    : return: A 2-D tensor where the second dimension is num_outputs.\n",
    "    \"\"\"\n",
    "    # TODO: Implement Function\n",
    "    shape=x_tensor.get_shape().as_list()\n",
    "    bias=tf.Variable(tf.zeros(num_outputs))\n",
    "    weight=tf.Variable(tf.random_normal([shape[-1],num_outputs]))\n",
    "    \n",
    "    return tf.add(tf.matmul(x_tensor,weight),bias)\n",
    "\n",
    "\n",
    "\"\"\"\n",
    "DON'T MODIFY ANYTHING IN THIS CELL THAT IS BELOW THIS LINE\n",
    "\"\"\"\n",
    "tests.test_output(output)"
   ]
  },
  {
   "cell_type": "markdown",
   "metadata": {
    "deletable": true,
    "editable": true
   },
   "source": [
    "### Create Convolutional Model\n",
    "Implement the function `conv_net` to create a convolutional neural network model. The function takes in a batch of images, `x`, and outputs logits.  Use the layers you created above to create this model:\n",
    "\n",
    "* Apply 1, 2, or 3 Convolution and Max Pool layers\n",
    "* Apply a Flatten Layer\n",
    "* Apply 1, 2, or 3 Fully Connected Layers\n",
    "* Apply an Output Layer\n",
    "* Return the output\n",
    "* Apply [TensorFlow's Dropout](https://www.tensorflow.org/api_docs/python/tf/nn/dropout) to one or more layers in the model using `keep_prob`. "
   ]
  },
  {
   "cell_type": "code",
   "execution_count": 24,
   "metadata": {
    "collapsed": false,
    "deletable": true,
    "editable": true
   },
   "outputs": [
    {
     "name": "stdout",
     "output_type": "stream",
     "text": [
      "Neural Network Built!\n"
     ]
    }
   ],
   "source": [
    "def conv_net(x, keep_prob):\n",
    "    \"\"\"\n",
    "    Create a convolutional neural network model\n",
    "    : x: Placeholder tensor that holds image data.\n",
    "    : keep_prob: Placeholder tensor that hold dropout keep probability.\n",
    "    : return: Tensor that represents logits\n",
    "    \"\"\"\n",
    "    # TODO: Apply 1, 2, or 3 Convolution and Max Pool layers\n",
    "    #    Play around with different number of outputs, kernel size and stride\n",
    "    # Function Definition from Above:\n",
    "    #    conv2d_maxpool(x_tensor, conv_num_outputs, conv_ksize, conv_strides, pool_ksize, pool_strides)\n",
    "    \n",
    "    #mod=conv2d_maxpool(x,conv_num_outputs=64,conv_ksize=(4,4),conv_strides=(1,1),pool_ksize=(2,2),pool_strides=(1,1))\n",
    "    mod=conv2d_maxpool(x,conv_num_outputs=32,conv_ksize=(5,5),conv_strides=(1,1),pool_ksize=(3,3),pool_strides=(1,1))\n",
    "    \n",
    "    tf.nn.dropout(mod,keep_prob=keep_prob)\n",
    "\n",
    "    # TODO: Apply a Flatten Layer\n",
    "    # Function Definition from Above:\n",
    "    #   flatten(x_tensor)\n",
    "    \n",
    "    mod=flatten(mod)\n",
    "\n",
    "    # TODO: Apply 1, 2, or 3 Fully Connected Layers\n",
    "    #    Play around with different number of outputs\n",
    "    # Function Definition from Above:\n",
    "    #   fully_conn(x_tensor, num_outputs)\n",
    "    mod=fully_conn(mod,300)\n",
    "    tf.nn.dropout(mod,keep_prob=keep_prob)\n",
    "    mod=fully_conn(mod,200)\n",
    "    tf.nn.dropout(mod,keep_prob=keep_prob)\n",
    "    mod=fully_conn(mod,100)\n",
    "    tf.nn.dropout(mod,keep_prob=keep_prob)\n",
    "    \n",
    "    # TODO: Apply an Output Layer\n",
    "    #    Set this to the number of classes\n",
    "    # Function Definition from Above:\n",
    "    #   output(x_tensor, num_outputs)    \n",
    "    \n",
    "    # TODO: return output\n",
    "    return output(mod,10)\n",
    "\n",
    "\n",
    "\"\"\"\n",
    "DON'T MODIFY ANYTHING IN THIS CELL THAT IS BELOW THIS LINE\n",
    "\"\"\"\n",
    "\n",
    "##############################\n",
    "## Build the Neural Network ##\n",
    "##############################\n",
    "\n",
    "# Remove previous weights, bias, inputs, etc..\n",
    "tf.reset_default_graph()\n",
    "\n",
    "# Inputs\n",
    "x = neural_net_image_input((32, 32, 3))\n",
    "y = neural_net_label_input(10)\n",
    "keep_prob = neural_net_keep_prob_input()\n",
    "\n",
    "# Model\n",
    "logits = conv_net(x, keep_prob)\n",
    "\n",
    "# Name logits Tensor, so that is can be loaded from disk after training\n",
    "logits = tf.identity(logits, name='logits')\n",
    "\n",
    "# Loss and Optimizer\n",
    "cost = tf.reduce_mean(tf.nn.softmax_cross_entropy_with_logits(logits=logits, labels=y))\n",
    "optimizer = tf.train.AdamOptimizer().minimize(cost)\n",
    "\n",
    "# Accuracy\n",
    "correct_pred = tf.equal(tf.argmax(logits, 1), tf.argmax(y, 1))\n",
    "accuracy = tf.reduce_mean(tf.cast(correct_pred, tf.float32), name='accuracy')\n",
    "\n",
    "tests.test_conv_net(conv_net)"
   ]
  },
  {
   "cell_type": "markdown",
   "metadata": {
    "deletable": true,
    "editable": true
   },
   "source": [
    "## Train the Neural Network\n",
    "### Single Optimization\n",
    "Implement the function `train_neural_network` to do a single optimization.  The optimization should use `optimizer` to optimize in `session` with a `feed_dict` of the following:\n",
    "* `x` for image input\n",
    "* `y` for labels\n",
    "* `keep_prob` for keep probability for dropout\n",
    "\n",
    "This function will be called for each batch, so `tf.global_variables_initializer()` has already been called.\n",
    "\n",
    "Note: Nothing needs to be returned. This function is only optimizing the neural network."
   ]
  },
  {
   "cell_type": "code",
   "execution_count": 25,
   "metadata": {
    "collapsed": false,
    "deletable": true,
    "editable": true
   },
   "outputs": [
    {
     "name": "stdout",
     "output_type": "stream",
     "text": [
      "Tests Passed\n"
     ]
    }
   ],
   "source": [
    "def train_neural_network(session, optimizer, keep_probability, feature_batch, label_batch):\n",
    "    \"\"\"\n",
    "    Optimize the session on a batch of images and labels\n",
    "    : session: Current TensorFlow session\n",
    "    : optimizer: TensorFlow optimizer function\n",
    "    : keep_probability: keep probability\n",
    "    : feature_batch: Batch of Numpy image data\n",
    "    : label_batch: Batch of Numpy label data\n",
    "    \"\"\"\n",
    "    # TODO: Implement Function\n",
    "    session.run(optimizer, feed_dict={x:feature_batch,y:label_batch,keep_prob:keep_probability})\n",
    "\n",
    "\n",
    "\"\"\"\n",
    "DON'T MODIFY ANYTHING IN THIS CELL THAT IS BELOW THIS LINE\n",
    "\"\"\"\n",
    "tests.test_train_nn(train_neural_network)"
   ]
  },
  {
   "cell_type": "markdown",
   "metadata": {
    "deletable": true,
    "editable": true
   },
   "source": [
    "### Show Stats\n",
    "Implement the function `print_stats` to print loss and validation accuracy.  Use the global variables `valid_features` and `valid_labels` to calculate validation accuracy.  Use a keep probability of `1.0` to calculate the loss and validation accuracy."
   ]
  },
  {
   "cell_type": "code",
   "execution_count": 26,
   "metadata": {
    "collapsed": false,
    "deletable": true,
    "editable": true
   },
   "outputs": [],
   "source": [
    "def print_stats(session, feature_batch, label_batch, cost, accuracy):\n",
    "    \"\"\"\n",
    "    Print information about loss and validation accuracy\n",
    "    : session: Current TensorFlow session\n",
    "    : feature_batch: Batch of Numpy image data\n",
    "    : label_batch: Batch of Numpy label data\n",
    "    : cost: TensorFlow cost function\n",
    "    : accuracy: TensorFlow accuracy function\n",
    "    \"\"\"\n",
    "    # TODO: Implement Function\n",
    "    global valid_features,valid_labels\n",
    "    cost=session.run(cost,feed_dict={x:feature_batch,y:label_batch,keep_prob:1.0})\n",
    "    acc=session.run(accuracy,feed_dict={x:valid_features,y:valid_labels,keep_prob:1.0})\n",
    "    print(\"cost:{0} - validation_accuracy:{1}\".format(cost,acc))"
   ]
  },
  {
   "cell_type": "markdown",
   "metadata": {
    "deletable": true,
    "editable": true
   },
   "source": [
    "### Hyperparameters\n",
    "Tune the following parameters:\n",
    "* Set `epochs` to the number of iterations until the network stops learning or start overfitting\n",
    "* Set `batch_size` to the highest number that your machine has memory for.  Most people set them to common sizes of memory:\n",
    " * 64\n",
    " * 128\n",
    " * 256\n",
    " * ...\n",
    "* Set `keep_probability` to the probability of keeping a node using dropout"
   ]
  },
  {
   "cell_type": "code",
   "execution_count": 27,
   "metadata": {
    "collapsed": true,
    "deletable": true,
    "editable": true
   },
   "outputs": [],
   "source": [
    "# TODO: Tune Parameters\n",
    "epochs = 50\n",
    "batch_size = 128\n",
    "keep_probability = 0.50"
   ]
  },
  {
   "cell_type": "markdown",
   "metadata": {
    "deletable": true,
    "editable": true
   },
   "source": [
    "### Train on a Single CIFAR-10 Batch\n",
    "Instead of training the neural network on all the CIFAR-10 batches of data, let's use a single batch. This should save time while you iterate on the model to get a better accuracy.  Once the final validation accuracy is 50% or greater, run the model on all the data in the next section."
   ]
  },
  {
   "cell_type": "code",
   "execution_count": 28,
   "metadata": {
    "collapsed": false,
    "deletable": true,
    "editable": true
   },
   "outputs": [
    {
     "name": "stdout",
     "output_type": "stream",
     "text": [
      "Checking the Training on a Single Batch...\n",
      "Epoch  1, CIFAR-10 Batch 1:  cost:68146.2578125 - validation_accuracy:0.1995999962091446\n",
      "Epoch  2, CIFAR-10 Batch 1:  cost:47856.2734375 - validation_accuracy:0.24379998445510864\n",
      "Epoch  3, CIFAR-10 Batch 1:  cost:36499.3359375 - validation_accuracy:0.2766000032424927\n",
      "Epoch  4, CIFAR-10 Batch 1:  cost:27306.982421875 - validation_accuracy:0.28380000591278076\n",
      "Epoch  5, CIFAR-10 Batch 1:  cost:20774.892578125 - validation_accuracy:0.29440000653266907\n",
      "Epoch  6, CIFAR-10 Batch 1:  cost:16919.244140625 - validation_accuracy:0.30879998207092285\n",
      "Epoch  7, CIFAR-10 Batch 1:  cost:14751.322265625 - validation_accuracy:0.31679996848106384\n",
      "Epoch  8, CIFAR-10 Batch 1:  cost:13392.8291015625 - validation_accuracy:0.32659998536109924\n",
      "Epoch  9, CIFAR-10 Batch 1:  cost:11700.72265625 - validation_accuracy:0.3409999907016754\n",
      "Epoch 10, CIFAR-10 Batch 1:  cost:8362.5087890625 - validation_accuracy:0.3495999872684479\n",
      "Epoch 11, CIFAR-10 Batch 1:  cost:8603.1484375 - validation_accuracy:0.3611999750137329\n",
      "Epoch 12, CIFAR-10 Batch 1:  cost:9742.646484375 - validation_accuracy:0.3627999722957611\n",
      "Epoch 13, CIFAR-10 Batch 1:  cost:7781.9619140625 - validation_accuracy:0.34939995408058167\n",
      "Epoch 14, CIFAR-10 Batch 1:  cost:7778.490234375 - validation_accuracy:0.35019996762275696\n",
      "Epoch 15, CIFAR-10 Batch 1:  cost:5098.3251953125 - validation_accuracy:0.3545999825000763\n",
      "Epoch 16, CIFAR-10 Batch 1:  cost:4406.66015625 - validation_accuracy:0.37039995193481445\n",
      "Epoch 17, CIFAR-10 Batch 1:  cost:5230.4873046875 - validation_accuracy:0.36479997634887695\n",
      "Epoch 18, CIFAR-10 Batch 1:  cost:5723.11572265625 - validation_accuracy:0.38519999384880066\n",
      "Epoch 19, CIFAR-10 Batch 1:  cost:4321.22509765625 - validation_accuracy:0.3909999430179596\n",
      "Epoch 20, CIFAR-10 Batch 1:  cost:3582.56005859375 - validation_accuracy:0.39399996399879456\n",
      "Epoch 21, CIFAR-10 Batch 1:  cost:4376.67431640625 - validation_accuracy:0.38179999589920044\n",
      "Epoch 22, CIFAR-10 Batch 1:  cost:3809.679931640625 - validation_accuracy:0.39219996333122253\n",
      "Epoch 23, CIFAR-10 Batch 1:  cost:3358.555419921875 - validation_accuracy:0.4065999686717987\n",
      "Epoch 24, CIFAR-10 Batch 1:  cost:4404.8349609375 - validation_accuracy:0.3953999876976013\n",
      "Epoch 25, CIFAR-10 Batch 1:  cost:4299.34912109375 - validation_accuracy:0.39879998564720154\n",
      "Epoch 26, CIFAR-10 Batch 1:  cost:3368.07666015625 - validation_accuracy:0.40219995379447937\n",
      "Epoch 27, CIFAR-10 Batch 1:  cost:2150.41796875 - validation_accuracy:0.40219998359680176\n",
      "Epoch 28, CIFAR-10 Batch 1:  cost:2072.302490234375 - validation_accuracy:0.40080001950263977\n",
      "Epoch 29, CIFAR-10 Batch 1:  cost:1793.52978515625 - validation_accuracy:0.40039998292922974\n",
      "Epoch 30, CIFAR-10 Batch 1:  cost:1595.8525390625 - validation_accuracy:0.40119999647140503\n",
      "Epoch 31, CIFAR-10 Batch 1:  cost:1538.60546875 - validation_accuracy:0.40119996666908264\n",
      "Epoch 32, CIFAR-10 Batch 1:  cost:1107.5870361328125 - validation_accuracy:0.4129999279975891\n",
      "Epoch 33, CIFAR-10 Batch 1:  cost:1034.256591796875 - validation_accuracy:0.40759995579719543\n",
      "Epoch 34, CIFAR-10 Batch 1:  cost:1025.1551513671875 - validation_accuracy:0.40099993348121643\n",
      "Epoch 35, CIFAR-10 Batch 1:  cost:885.1762084960938 - validation_accuracy:0.3999999761581421\n",
      "Epoch 36, CIFAR-10 Batch 1:  cost:575.4226684570312 - validation_accuracy:0.38279998302459717\n",
      "Epoch 37, CIFAR-10 Batch 1:  cost:1176.9228515625 - validation_accuracy:0.37299999594688416\n",
      "Epoch 38, CIFAR-10 Batch 1:  cost:655.8562622070312 - validation_accuracy:0.38259997963905334\n",
      "Epoch 39, CIFAR-10 Batch 1:  cost:613.7320556640625 - validation_accuracy:0.39959996938705444\n",
      "Epoch 40, CIFAR-10 Batch 1:  cost:409.103515625 - validation_accuracy:0.40599995851516724\n",
      "Epoch 41, CIFAR-10 Batch 1:  cost:654.587158203125 - validation_accuracy:0.40139997005462646\n",
      "Epoch 42, CIFAR-10 Batch 1:  cost:667.0379028320312 - validation_accuracy:0.4025999903678894\n",
      "Epoch 43, CIFAR-10 Batch 1:  cost:208.77598571777344 - validation_accuracy:0.4212000072002411\n",
      "Epoch 44, CIFAR-10 Batch 1:  cost:211.43299865722656 - validation_accuracy:0.40059995651245117\n",
      "Epoch 45, CIFAR-10 Batch 1:  cost:80.0458984375 - validation_accuracy:0.40299996733665466\n",
      "Epoch 46, CIFAR-10 Batch 1:  cost:169.07070922851562 - validation_accuracy:0.39379996061325073\n",
      "Epoch 47, CIFAR-10 Batch 1:  cost:422.1387023925781 - validation_accuracy:0.40599995851516724\n",
      "Epoch 48, CIFAR-10 Batch 1:  cost:520.3484497070312 - validation_accuracy:0.4071999788284302\n",
      "Epoch 49, CIFAR-10 Batch 1:  cost:307.1213073730469 - validation_accuracy:0.40379998087882996\n",
      "Epoch 50, CIFAR-10 Batch 1:  cost:65.69316864013672 - validation_accuracy:0.41519999504089355\n"
     ]
    }
   ],
   "source": [
    "\"\"\"\n",
    "DON'T MODIFY ANYTHING IN THIS CELL\n",
    "\"\"\"\n",
    "print('Checking the Training on a Single Batch...')\n",
    "with tf.Session() as sess:\n",
    "    # Initializing the variables\n",
    "    sess.run(tf.global_variables_initializer())\n",
    "    \n",
    "    # Training cycle\n",
    "    for epoch in range(epochs):\n",
    "        batch_i = 1\n",
    "        for batch_features, batch_labels in helper.load_preprocess_training_batch(batch_i, batch_size):\n",
    "            train_neural_network(sess, optimizer, keep_probability, batch_features, batch_labels)\n",
    "        print('Epoch {:>2}, CIFAR-10 Batch {}:  '.format(epoch + 1, batch_i), end='')\n",
    "        print_stats(sess, batch_features, batch_labels, cost, accuracy)"
   ]
  },
  {
   "cell_type": "markdown",
   "metadata": {
    "deletable": true,
    "editable": true
   },
   "source": [
    "### Fully Train the Model\n",
    "Now that you got a good accuracy with a single CIFAR-10 batch, try it with all five batches."
   ]
  },
  {
   "cell_type": "code",
   "execution_count": 29,
   "metadata": {
    "collapsed": false,
    "deletable": true,
    "editable": true
   },
   "outputs": [
    {
     "name": "stdout",
     "output_type": "stream",
     "text": [
      "Training...\n",
      "Epoch  1, CIFAR-10 Batch 1:  cost:57690.18359375 - validation_accuracy:0.2133999764919281\n",
      "Epoch  1, CIFAR-10 Batch 2:  cost:40648.3671875 - validation_accuracy:0.2385999858379364\n",
      "Epoch  1, CIFAR-10 Batch 3:  cost:27032.03515625 - validation_accuracy:0.2637999653816223\n",
      "Epoch  1, CIFAR-10 Batch 4:  cost:29212.15234375 - validation_accuracy:0.2696000039577484\n",
      "Epoch  1, CIFAR-10 Batch 5:  cost:27533.57421875 - validation_accuracy:0.2871999740600586\n",
      "Epoch  2, CIFAR-10 Batch 1:  cost:23977.26171875 - validation_accuracy:0.3009999990463257\n",
      "Epoch  2, CIFAR-10 Batch 2:  cost:15787.44921875 - validation_accuracy:0.3059999942779541\n",
      "Epoch  2, CIFAR-10 Batch 3:  cost:13077.1142578125 - validation_accuracy:0.34019994735717773\n",
      "Epoch  2, CIFAR-10 Batch 4:  cost:16825.353515625 - validation_accuracy:0.3343999981880188\n",
      "Epoch  2, CIFAR-10 Batch 5:  cost:17259.63671875 - validation_accuracy:0.3375999927520752\n",
      "Epoch  3, CIFAR-10 Batch 1:  cost:14345.7236328125 - validation_accuracy:0.36479997634887695\n",
      "Epoch  3, CIFAR-10 Batch 2:  cost:8827.5615234375 - validation_accuracy:0.3548000156879425\n",
      "Epoch  3, CIFAR-10 Batch 3:  cost:9039.3935546875 - validation_accuracy:0.3660000264644623\n",
      "Epoch  3, CIFAR-10 Batch 4:  cost:9986.3095703125 - validation_accuracy:0.37299996614456177\n",
      "Epoch  3, CIFAR-10 Batch 5:  cost:12546.939453125 - validation_accuracy:0.3659999966621399\n",
      "Epoch  4, CIFAR-10 Batch 1:  cost:10925.8056640625 - validation_accuracy:0.38999998569488525\n",
      "Epoch  4, CIFAR-10 Batch 2:  cost:6529.9423828125 - validation_accuracy:0.39059996604919434\n",
      "Epoch  4, CIFAR-10 Batch 3:  cost:5291.4619140625 - validation_accuracy:0.40059995651245117\n",
      "Epoch  4, CIFAR-10 Batch 4:  cost:8145.79541015625 - validation_accuracy:0.3935999870300293\n",
      "Epoch  4, CIFAR-10 Batch 5:  cost:8733.828125 - validation_accuracy:0.38499999046325684\n",
      "Epoch  5, CIFAR-10 Batch 1:  cost:8226.73046875 - validation_accuracy:0.4075999855995178\n",
      "Epoch  5, CIFAR-10 Batch 2:  cost:4421.29638671875 - validation_accuracy:0.4032000005245209\n",
      "Epoch  5, CIFAR-10 Batch 3:  cost:2878.986572265625 - validation_accuracy:0.4163999855518341\n",
      "Epoch  5, CIFAR-10 Batch 4:  cost:6043.3408203125 - validation_accuracy:0.4147999882698059\n",
      "Epoch  5, CIFAR-10 Batch 5:  cost:5985.361328125 - validation_accuracy:0.40039995312690735\n",
      "Epoch  6, CIFAR-10 Batch 1:  cost:6843.1826171875 - validation_accuracy:0.4129999876022339\n",
      "Epoch  6, CIFAR-10 Batch 2:  cost:2915.137451171875 - validation_accuracy:0.4063999652862549\n",
      "Epoch  6, CIFAR-10 Batch 3:  cost:1984.7381591796875 - validation_accuracy:0.41019997000694275\n",
      "Epoch  6, CIFAR-10 Batch 4:  cost:4820.08935546875 - validation_accuracy:0.4179999530315399\n",
      "Epoch  6, CIFAR-10 Batch 5:  cost:4417.7822265625 - validation_accuracy:0.400799959897995\n",
      "Epoch  7, CIFAR-10 Batch 1:  cost:4585.681640625 - validation_accuracy:0.42139995098114014\n",
      "Epoch  7, CIFAR-10 Batch 2:  cost:2157.415283203125 - validation_accuracy:0.4171999394893646\n",
      "Epoch  7, CIFAR-10 Batch 3:  cost:1415.9361572265625 - validation_accuracy:0.41179999709129333\n",
      "Epoch  7, CIFAR-10 Batch 4:  cost:3341.13916015625 - validation_accuracy:0.42899996042251587\n",
      "Epoch  7, CIFAR-10 Batch 5:  cost:3210.125732421875 - validation_accuracy:0.4147999882698059\n",
      "Epoch  8, CIFAR-10 Batch 1:  cost:3703.54052734375 - validation_accuracy:0.423399955034256\n",
      "Epoch  8, CIFAR-10 Batch 2:  cost:2422.90625 - validation_accuracy:0.4195999801158905\n",
      "Epoch  8, CIFAR-10 Batch 3:  cost:1179.788330078125 - validation_accuracy:0.4229999780654907\n",
      "Epoch  8, CIFAR-10 Batch 4:  cost:2741.2919921875 - validation_accuracy:0.429999977350235\n",
      "Epoch  8, CIFAR-10 Batch 5:  cost:2337.27734375 - validation_accuracy:0.42499998211860657\n",
      "Epoch  9, CIFAR-10 Batch 1:  cost:3360.3017578125 - validation_accuracy:0.43199995160102844\n",
      "Epoch  9, CIFAR-10 Batch 2:  cost:1357.621337890625 - validation_accuracy:0.4253999888896942\n",
      "Epoch  9, CIFAR-10 Batch 3:  cost:735.2225341796875 - validation_accuracy:0.42879998683929443\n",
      "Epoch  9, CIFAR-10 Batch 4:  cost:2437.25 - validation_accuracy:0.436599999666214\n",
      "Epoch  9, CIFAR-10 Batch 5:  cost:1951.011962890625 - validation_accuracy:0.42399996519088745\n",
      "Epoch 10, CIFAR-10 Batch 1:  cost:2955.861328125 - validation_accuracy:0.42959994077682495\n",
      "Epoch 10, CIFAR-10 Batch 2:  cost:861.1798095703125 - validation_accuracy:0.42959997057914734\n",
      "Epoch 10, CIFAR-10 Batch 3:  cost:591.61279296875 - validation_accuracy:0.4315999746322632\n",
      "Epoch 10, CIFAR-10 Batch 4:  cost:1883.6063232421875 - validation_accuracy:0.439799964427948\n",
      "Epoch 10, CIFAR-10 Batch 5:  cost:1581.68408203125 - validation_accuracy:0.4347999691963196\n",
      "Epoch 11, CIFAR-10 Batch 1:  cost:2667.40869140625 - validation_accuracy:0.4429999589920044\n",
      "Epoch 11, CIFAR-10 Batch 2:  cost:570.8253784179688 - validation_accuracy:0.431799978017807\n",
      "Epoch 11, CIFAR-10 Batch 3:  cost:422.41522216796875 - validation_accuracy:0.4357999861240387\n",
      "Epoch 11, CIFAR-10 Batch 4:  cost:1757.1273193359375 - validation_accuracy:0.44839996099472046\n",
      "Epoch 11, CIFAR-10 Batch 5:  cost:1105.6961669921875 - validation_accuracy:0.4349999725818634\n",
      "Epoch 12, CIFAR-10 Batch 1:  cost:1990.0953369140625 - validation_accuracy:0.4485999345779419\n",
      "Epoch 12, CIFAR-10 Batch 2:  cost:623.1024780273438 - validation_accuracy:0.43379995226860046\n",
      "Epoch 12, CIFAR-10 Batch 3:  cost:213.71145629882812 - validation_accuracy:0.4405999481678009\n",
      "Epoch 12, CIFAR-10 Batch 4:  cost:1567.1124267578125 - validation_accuracy:0.44359999895095825\n",
      "Epoch 12, CIFAR-10 Batch 5:  cost:817.0956420898438 - validation_accuracy:0.4389999806880951\n",
      "Epoch 13, CIFAR-10 Batch 1:  cost:1546.302001953125 - validation_accuracy:0.4469999670982361\n",
      "Epoch 13, CIFAR-10 Batch 2:  cost:464.0234069824219 - validation_accuracy:0.43619999289512634\n",
      "Epoch 13, CIFAR-10 Batch 3:  cost:346.03778076171875 - validation_accuracy:0.4437999725341797\n",
      "Epoch 13, CIFAR-10 Batch 4:  cost:1252.437255859375 - validation_accuracy:0.44999995827674866\n",
      "Epoch 13, CIFAR-10 Batch 5:  cost:663.8764038085938 - validation_accuracy:0.44739994406700134\n",
      "Epoch 14, CIFAR-10 Batch 1:  cost:1233.6376953125 - validation_accuracy:0.4423999786376953\n",
      "Epoch 14, CIFAR-10 Batch 2:  cost:366.7894287109375 - validation_accuracy:0.43879997730255127\n",
      "Epoch 14, CIFAR-10 Batch 3:  cost:265.5322570800781 - validation_accuracy:0.45159995555877686\n",
      "Epoch 14, CIFAR-10 Batch 4:  cost:951.3754272460938 - validation_accuracy:0.45139995217323303\n",
      "Epoch 14, CIFAR-10 Batch 5:  cost:555.0747680664062 - validation_accuracy:0.44339996576309204\n",
      "Epoch 15, CIFAR-10 Batch 1:  cost:976.283203125 - validation_accuracy:0.4453999698162079\n",
      "Epoch 15, CIFAR-10 Batch 2:  cost:274.4443664550781 - validation_accuracy:0.4413999915122986\n",
      "Epoch 15, CIFAR-10 Batch 3:  cost:252.96839904785156 - validation_accuracy:0.4564000070095062\n",
      "Epoch 15, CIFAR-10 Batch 4:  cost:568.6234741210938 - validation_accuracy:0.4591999650001526\n",
      "Epoch 15, CIFAR-10 Batch 5:  cost:460.8988037109375 - validation_accuracy:0.4471999406814575\n",
      "Epoch 16, CIFAR-10 Batch 1:  cost:795.010009765625 - validation_accuracy:0.4469999372959137\n",
      "Epoch 16, CIFAR-10 Batch 2:  cost:309.5640563964844 - validation_accuracy:0.4431999921798706\n",
      "Epoch 16, CIFAR-10 Batch 3:  cost:137.49546813964844 - validation_accuracy:0.4537999629974365\n",
      "Epoch 16, CIFAR-10 Batch 4:  cost:561.5388793945312 - validation_accuracy:0.4561999440193176\n",
      "Epoch 16, CIFAR-10 Batch 5:  cost:458.3149719238281 - validation_accuracy:0.4503999650478363\n",
      "Epoch 17, CIFAR-10 Batch 1:  cost:518.9366455078125 - validation_accuracy:0.4445999562740326\n",
      "Epoch 17, CIFAR-10 Batch 2:  cost:292.47247314453125 - validation_accuracy:0.44159996509552\n",
      "Epoch 17, CIFAR-10 Batch 3:  cost:101.39252471923828 - validation_accuracy:0.45260000228881836\n",
      "Epoch 17, CIFAR-10 Batch 4:  cost:320.083984375 - validation_accuracy:0.4575999975204468\n",
      "Epoch 17, CIFAR-10 Batch 5:  cost:448.2708740234375 - validation_accuracy:0.4439999759197235\n",
      "Epoch 18, CIFAR-10 Batch 1:  cost:464.64801025390625 - validation_accuracy:0.4509999752044678\n",
      "Epoch 18, CIFAR-10 Batch 2:  cost:343.40594482421875 - validation_accuracy:0.4407999813556671\n",
      "Epoch 18, CIFAR-10 Batch 3:  cost:61.66000747680664 - validation_accuracy:0.46199995279312134\n",
      "Epoch 18, CIFAR-10 Batch 4:  cost:264.9485168457031 - validation_accuracy:0.4665999710559845\n",
      "Epoch 18, CIFAR-10 Batch 5:  cost:281.7655334472656 - validation_accuracy:0.4617999792098999\n",
      "Epoch 19, CIFAR-10 Batch 1:  cost:371.5653076171875 - validation_accuracy:0.4389999508857727\n",
      "Epoch 19, CIFAR-10 Batch 2:  cost:303.0762939453125 - validation_accuracy:0.42379996180534363\n",
      "Epoch 19, CIFAR-10 Batch 3:  cost:102.6712875366211 - validation_accuracy:0.45399996638298035\n",
      "Epoch 19, CIFAR-10 Batch 4:  cost:261.1280517578125 - validation_accuracy:0.45659998059272766\n",
      "Epoch 19, CIFAR-10 Batch 5:  cost:226.2586669921875 - validation_accuracy:0.46279996633529663\n",
      "Epoch 20, CIFAR-10 Batch 1:  cost:293.43048095703125 - validation_accuracy:0.4363999664783478\n",
      "Epoch 20, CIFAR-10 Batch 2:  cost:271.4130859375 - validation_accuracy:0.41999998688697815\n",
      "Epoch 20, CIFAR-10 Batch 3:  cost:82.9248046875 - validation_accuracy:0.45899999141693115\n",
      "Epoch 20, CIFAR-10 Batch 4:  cost:221.5788116455078 - validation_accuracy:0.4583999812602997\n",
      "Epoch 20, CIFAR-10 Batch 5:  cost:286.296875 - validation_accuracy:0.44839993119239807\n",
      "Epoch 21, CIFAR-10 Batch 1:  cost:224.12904357910156 - validation_accuracy:0.4631999433040619\n",
      "Epoch 21, CIFAR-10 Batch 2:  cost:301.94012451171875 - validation_accuracy:0.42079994082450867\n",
      "Epoch 21, CIFAR-10 Batch 3:  cost:190.54371643066406 - validation_accuracy:0.4729999899864197\n",
      "Epoch 21, CIFAR-10 Batch 4:  cost:264.18353271484375 - validation_accuracy:0.449599951505661\n",
      "Epoch 21, CIFAR-10 Batch 5:  cost:401.3004455566406 - validation_accuracy:0.43059995770454407\n",
      "Epoch 22, CIFAR-10 Batch 1:  cost:312.2623291015625 - validation_accuracy:0.45579996705055237\n",
      "Epoch 22, CIFAR-10 Batch 2:  cost:126.51728057861328 - validation_accuracy:0.4519999921321869\n",
      "Epoch 22, CIFAR-10 Batch 3:  cost:82.49539947509766 - validation_accuracy:0.4875999689102173\n",
      "Epoch 22, CIFAR-10 Batch 4:  cost:152.56033325195312 - validation_accuracy:0.4619999825954437\n",
      "Epoch 22, CIFAR-10 Batch 5:  cost:247.13955688476562 - validation_accuracy:0.4333999454975128\n",
      "Epoch 23, CIFAR-10 Batch 1:  cost:356.41241455078125 - validation_accuracy:0.4731999635696411\n",
      "Epoch 23, CIFAR-10 Batch 2:  cost:209.0084686279297 - validation_accuracy:0.44519996643066406\n",
      "Epoch 23, CIFAR-10 Batch 3:  cost:55.93904113769531 - validation_accuracy:0.47179996967315674\n",
      "Epoch 23, CIFAR-10 Batch 4:  cost:167.47886657714844 - validation_accuracy:0.4643999934196472\n",
      "Epoch 23, CIFAR-10 Batch 5:  cost:196.60716247558594 - validation_accuracy:0.4461999833583832\n",
      "Epoch 24, CIFAR-10 Batch 1:  cost:171.00738525390625 - validation_accuracy:0.48219993710517883\n",
      "Epoch 24, CIFAR-10 Batch 2:  cost:99.27682495117188 - validation_accuracy:0.46039995551109314\n",
      "Epoch 24, CIFAR-10 Batch 3:  cost:39.1370964050293 - validation_accuracy:0.4683999717235565\n",
      "Epoch 24, CIFAR-10 Batch 4:  cost:141.91436767578125 - validation_accuracy:0.4713999629020691\n",
      "Epoch 24, CIFAR-10 Batch 5:  cost:137.68350219726562 - validation_accuracy:0.4533999562263489\n",
      "Epoch 25, CIFAR-10 Batch 1:  cost:105.0390853881836 - validation_accuracy:0.4837999939918518\n",
      "Epoch 25, CIFAR-10 Batch 2:  cost:94.56698608398438 - validation_accuracy:0.45739996433258057\n",
      "Epoch 25, CIFAR-10 Batch 3:  cost:64.05089569091797 - validation_accuracy:0.45819997787475586\n",
      "Epoch 25, CIFAR-10 Batch 4:  cost:104.16700744628906 - validation_accuracy:0.47359994053840637\n",
      "Epoch 25, CIFAR-10 Batch 5:  cost:99.53648376464844 - validation_accuracy:0.4527999758720398\n",
      "Epoch 26, CIFAR-10 Batch 1:  cost:100.44068145751953 - validation_accuracy:0.46939995884895325\n",
      "Epoch 26, CIFAR-10 Batch 2:  cost:54.08271789550781 - validation_accuracy:0.45559990406036377\n",
      "Epoch 26, CIFAR-10 Batch 3:  cost:211.66807556152344 - validation_accuracy:0.4275999665260315\n",
      "Epoch 26, CIFAR-10 Batch 4:  cost:90.76707458496094 - validation_accuracy:0.47179996967315674\n",
      "Epoch 26, CIFAR-10 Batch 5:  cost:63.41722106933594 - validation_accuracy:0.46219995617866516\n",
      "Epoch 27, CIFAR-10 Batch 1:  cost:127.41184997558594 - validation_accuracy:0.4859999716281891\n",
      "Epoch 27, CIFAR-10 Batch 2:  cost:40.750831604003906 - validation_accuracy:0.46839994192123413\n",
      "Epoch 27, CIFAR-10 Batch 3:  cost:78.6401138305664 - validation_accuracy:0.43779993057250977\n",
      "Epoch 27, CIFAR-10 Batch 4:  cost:107.57081604003906 - validation_accuracy:0.4689999520778656\n",
      "Epoch 27, CIFAR-10 Batch 5:  cost:93.03166961669922 - validation_accuracy:0.4745999276638031\n",
      "Epoch 28, CIFAR-10 Batch 1:  cost:99.00892639160156 - validation_accuracy:0.47439998388290405\n",
      "Epoch 28, CIFAR-10 Batch 2:  cost:46.253990173339844 - validation_accuracy:0.46619996428489685\n",
      "Epoch 28, CIFAR-10 Batch 3:  cost:63.63774871826172 - validation_accuracy:0.4569999873638153\n",
      "Epoch 28, CIFAR-10 Batch 4:  cost:78.40768432617188 - validation_accuracy:0.4667999744415283\n",
      "Epoch 28, CIFAR-10 Batch 5:  cost:57.1619987487793 - validation_accuracy:0.4747999906539917\n",
      "Epoch 29, CIFAR-10 Batch 1:  cost:102.52924346923828 - validation_accuracy:0.48079997301101685\n",
      "Epoch 29, CIFAR-10 Batch 2:  cost:31.297807693481445 - validation_accuracy:0.47079998254776\n",
      "Epoch 29, CIFAR-10 Batch 3:  cost:93.93194580078125 - validation_accuracy:0.46039995551109314\n",
      "Epoch 29, CIFAR-10 Batch 4:  cost:97.96721649169922 - validation_accuracy:0.45879995822906494\n",
      "Epoch 29, CIFAR-10 Batch 5:  cost:49.860107421875 - validation_accuracy:0.480199933052063\n",
      "Epoch 30, CIFAR-10 Batch 1:  cost:63.87936782836914 - validation_accuracy:0.4843999445438385\n",
      "Epoch 30, CIFAR-10 Batch 2:  cost:22.195396423339844 - validation_accuracy:0.4771999716758728\n",
      "Epoch 30, CIFAR-10 Batch 3:  cost:113.22188568115234 - validation_accuracy:0.4505999684333801\n",
      "Epoch 30, CIFAR-10 Batch 4:  cost:131.56956481933594 - validation_accuracy:0.44979995489120483\n",
      "Epoch 30, CIFAR-10 Batch 5:  cost:107.3719711303711 - validation_accuracy:0.4619999825954437\n",
      "Epoch 31, CIFAR-10 Batch 1:  cost:134.9187469482422 - validation_accuracy:0.4795999526977539\n",
      "Epoch 31, CIFAR-10 Batch 2:  cost:20.75981903076172 - validation_accuracy:0.4745999872684479\n",
      "Epoch 31, CIFAR-10 Batch 3:  cost:36.236976623535156 - validation_accuracy:0.44439995288848877\n",
      "Epoch 31, CIFAR-10 Batch 4:  cost:77.39556121826172 - validation_accuracy:0.46699994802474976\n",
      "Epoch 31, CIFAR-10 Batch 5:  cost:30.145654678344727 - validation_accuracy:0.4681999683380127\n",
      "Epoch 32, CIFAR-10 Batch 1:  cost:136.86598205566406 - validation_accuracy:0.4601999521255493\n",
      "Epoch 32, CIFAR-10 Batch 2:  cost:12.884992599487305 - validation_accuracy:0.4835999608039856\n",
      "Epoch 32, CIFAR-10 Batch 3:  cost:47.051979064941406 - validation_accuracy:0.4745999872684479\n",
      "Epoch 32, CIFAR-10 Batch 4:  cost:122.88048553466797 - validation_accuracy:0.45239999890327454\n",
      "Epoch 32, CIFAR-10 Batch 5:  cost:55.612369537353516 - validation_accuracy:0.47839999198913574\n",
      "Epoch 33, CIFAR-10 Batch 1:  cost:68.53429412841797 - validation_accuracy:0.4851999580860138\n",
      "Epoch 33, CIFAR-10 Batch 2:  cost:14.285938262939453 - validation_accuracy:0.4827999472618103\n",
      "Epoch 33, CIFAR-10 Batch 3:  cost:18.542694091796875 - validation_accuracy:0.4745999574661255\n",
      "Epoch 33, CIFAR-10 Batch 4:  cost:136.21148681640625 - validation_accuracy:0.4737999439239502\n",
      "Epoch 33, CIFAR-10 Batch 5:  cost:59.925994873046875 - validation_accuracy:0.48559993505477905\n",
      "Epoch 34, CIFAR-10 Batch 1:  cost:89.43954467773438 - validation_accuracy:0.4845999777317047\n",
      "Epoch 34, CIFAR-10 Batch 2:  cost:51.77143096923828 - validation_accuracy:0.46619996428489685\n",
      "Epoch 34, CIFAR-10 Batch 3:  cost:50.88352966308594 - validation_accuracy:0.4755999445915222\n",
      "Epoch 34, CIFAR-10 Batch 4:  cost:127.90119934082031 - validation_accuracy:0.45579999685287476\n",
      "Epoch 34, CIFAR-10 Batch 5:  cost:66.42881774902344 - validation_accuracy:0.4541999399662018\n",
      "Epoch 35, CIFAR-10 Batch 1:  cost:120.3884048461914 - validation_accuracy:0.4805999994277954\n",
      "Epoch 35, CIFAR-10 Batch 2:  cost:8.529077529907227 - validation_accuracy:0.47499996423721313\n",
      "Epoch 35, CIFAR-10 Batch 3:  cost:5.203284740447998 - validation_accuracy:0.486799955368042\n",
      "Epoch 35, CIFAR-10 Batch 4:  cost:48.91293716430664 - validation_accuracy:0.47199997305870056\n",
      "Epoch 35, CIFAR-10 Batch 5:  cost:31.310317993164062 - validation_accuracy:0.4705999493598938\n",
      "Epoch 36, CIFAR-10 Batch 1:  cost:83.90811157226562 - validation_accuracy:0.4723999500274658\n",
      "Epoch 36, CIFAR-10 Batch 2:  cost:22.33550453186035 - validation_accuracy:0.46879997849464417\n",
      "Epoch 36, CIFAR-10 Batch 3:  cost:12.106315612792969 - validation_accuracy:0.47099995613098145\n",
      "Epoch 36, CIFAR-10 Batch 4:  cost:113.54218292236328 - validation_accuracy:0.4519999921321869\n",
      "Epoch 36, CIFAR-10 Batch 5:  cost:89.38909149169922 - validation_accuracy:0.4673999547958374\n",
      "Epoch 37, CIFAR-10 Batch 1:  cost:45.44538879394531 - validation_accuracy:0.4889999330043793\n",
      "Epoch 37, CIFAR-10 Batch 2:  cost:4.397534370422363 - validation_accuracy:0.4829999506473541\n",
      "Epoch 37, CIFAR-10 Batch 3:  cost:10.994128227233887 - validation_accuracy:0.4811999499797821\n",
      "Epoch 37, CIFAR-10 Batch 4:  cost:26.747509002685547 - validation_accuracy:0.4707999527454376\n",
      "Epoch 37, CIFAR-10 Batch 5:  cost:55.043251037597656 - validation_accuracy:0.47599995136260986\n",
      "Epoch 38, CIFAR-10 Batch 1:  cost:18.91549301147461 - validation_accuracy:0.5023999810218811\n",
      "Epoch 38, CIFAR-10 Batch 2:  cost:11.374267578125 - validation_accuracy:0.46779999136924744\n",
      "Epoch 38, CIFAR-10 Batch 3:  cost:26.752710342407227 - validation_accuracy:0.4757999777793884\n",
      "Epoch 38, CIFAR-10 Batch 4:  cost:37.33821105957031 - validation_accuracy:0.4663999676704407\n",
      "Epoch 38, CIFAR-10 Batch 5:  cost:42.0186653137207 - validation_accuracy:0.47360000014305115\n",
      "Epoch 39, CIFAR-10 Batch 1:  cost:63.04008483886719 - validation_accuracy:0.4761999845504761\n",
      "Epoch 39, CIFAR-10 Batch 2:  cost:10.970349311828613 - validation_accuracy:0.47819995880126953\n",
      "Epoch 39, CIFAR-10 Batch 3:  cost:46.67996597290039 - validation_accuracy:0.446399986743927\n",
      "Epoch 39, CIFAR-10 Batch 4:  cost:48.332550048828125 - validation_accuracy:0.4740000069141388\n",
      "Epoch 39, CIFAR-10 Batch 5:  cost:43.40528106689453 - validation_accuracy:0.4891999363899231\n",
      "Epoch 40, CIFAR-10 Batch 1:  cost:17.85663414001465 - validation_accuracy:0.4763999581336975\n",
      "Epoch 40, CIFAR-10 Batch 2:  cost:23.91222381591797 - validation_accuracy:0.4827999770641327\n",
      "Epoch 40, CIFAR-10 Batch 3:  cost:19.013479232788086 - validation_accuracy:0.45979994535446167\n",
      "Epoch 40, CIFAR-10 Batch 4:  cost:22.14735984802246 - validation_accuracy:0.4731999337673187\n",
      "Epoch 40, CIFAR-10 Batch 5:  cost:27.938440322875977 - validation_accuracy:0.49039989709854126\n",
      "Epoch 41, CIFAR-10 Batch 1:  cost:42.862056732177734 - validation_accuracy:0.4869999587535858\n",
      "Epoch 41, CIFAR-10 Batch 2:  cost:37.989654541015625 - validation_accuracy:0.4721999764442444\n",
      "Epoch 41, CIFAR-10 Batch 3:  cost:40.87156677246094 - validation_accuracy:0.45899999141693115\n",
      "Epoch 41, CIFAR-10 Batch 4:  cost:40.398651123046875 - validation_accuracy:0.4671999514102936\n",
      "Epoch 41, CIFAR-10 Batch 5:  cost:70.09687042236328 - validation_accuracy:0.47979995608329773\n",
      "Epoch 42, CIFAR-10 Batch 1:  cost:41.608917236328125 - validation_accuracy:0.47859999537467957\n",
      "Epoch 42, CIFAR-10 Batch 2:  cost:10.271584510803223 - validation_accuracy:0.4779999256134033\n",
      "Epoch 42, CIFAR-10 Batch 3:  cost:29.7674617767334 - validation_accuracy:0.45879995822906494\n",
      "Epoch 42, CIFAR-10 Batch 4:  cost:20.97718048095703 - validation_accuracy:0.4931999444961548\n",
      "Epoch 42, CIFAR-10 Batch 5:  cost:52.183204650878906 - validation_accuracy:0.47979992628097534\n",
      "Epoch 43, CIFAR-10 Batch 1:  cost:34.659751892089844 - validation_accuracy:0.4705999493598938\n",
      "Epoch 43, CIFAR-10 Batch 2:  cost:7.198315620422363 - validation_accuracy:0.48579996824264526\n",
      "Epoch 43, CIFAR-10 Batch 3:  cost:2.9194397926330566 - validation_accuracy:0.4591999650001526\n",
      "Epoch 43, CIFAR-10 Batch 4:  cost:19.06877326965332 - validation_accuracy:0.4861999750137329\n",
      "Epoch 43, CIFAR-10 Batch 5:  cost:22.389225006103516 - validation_accuracy:0.4843999445438385\n",
      "Epoch 44, CIFAR-10 Batch 1:  cost:20.081832885742188 - validation_accuracy:0.4851999878883362\n",
      "Epoch 44, CIFAR-10 Batch 2:  cost:3.0142762660980225 - validation_accuracy:0.48579996824264526\n",
      "Epoch 44, CIFAR-10 Batch 3:  cost:25.650405883789062 - validation_accuracy:0.47099995613098145\n",
      "Epoch 44, CIFAR-10 Batch 4:  cost:22.813756942749023 - validation_accuracy:0.4827999472618103\n",
      "Epoch 44, CIFAR-10 Batch 5:  cost:11.942083358764648 - validation_accuracy:0.4923999309539795\n",
      "Epoch 45, CIFAR-10 Batch 1:  cost:53.54942321777344 - validation_accuracy:0.46119996905326843\n",
      "Epoch 45, CIFAR-10 Batch 2:  cost:35.03606414794922 - validation_accuracy:0.462399959564209\n",
      "Epoch 45, CIFAR-10 Batch 3:  cost:11.398918151855469 - validation_accuracy:0.4851999580860138\n",
      "Epoch 45, CIFAR-10 Batch 4:  cost:57.338226318359375 - validation_accuracy:0.48639994859695435\n",
      "Epoch 45, CIFAR-10 Batch 5:  cost:16.1195125579834 - validation_accuracy:0.491599977016449\n",
      "Epoch 46, CIFAR-10 Batch 1:  cost:22.42323112487793 - validation_accuracy:0.46459993720054626\n",
      "Epoch 46, CIFAR-10 Batch 2:  cost:3.2483651638031006 - validation_accuracy:0.47200000286102295\n",
      "Epoch 46, CIFAR-10 Batch 3:  cost:17.149524688720703 - validation_accuracy:0.4827999472618103\n",
      "Epoch 46, CIFAR-10 Batch 4:  cost:26.076688766479492 - validation_accuracy:0.4761999845504761\n",
      "Epoch 46, CIFAR-10 Batch 5:  cost:35.302764892578125 - validation_accuracy:0.4795999526977539\n",
      "Epoch 47, CIFAR-10 Batch 1:  cost:28.07413101196289 - validation_accuracy:0.48479992151260376\n",
      "Epoch 47, CIFAR-10 Batch 2:  cost:17.20017433166504 - validation_accuracy:0.476999968290329\n",
      "Epoch 47, CIFAR-10 Batch 3:  cost:2.1755600698725175e-07 - validation_accuracy:0.48219993710517883\n",
      "Epoch 47, CIFAR-10 Batch 4:  cost:6.795422554016113 - validation_accuracy:0.48739996552467346\n",
      "Epoch 47, CIFAR-10 Batch 5:  cost:37.68864822387695 - validation_accuracy:0.4739999771118164\n",
      "Epoch 48, CIFAR-10 Batch 1:  cost:39.32418441772461 - validation_accuracy:0.46359995007514954\n",
      "Epoch 48, CIFAR-10 Batch 2:  cost:6.899665832519531 - validation_accuracy:0.5085999369621277\n",
      "Epoch 48, CIFAR-10 Batch 3:  cost:25.84879493713379 - validation_accuracy:0.47679996490478516\n",
      "Epoch 48, CIFAR-10 Batch 4:  cost:10.841238975524902 - validation_accuracy:0.4869999587535858\n",
      "Epoch 48, CIFAR-10 Batch 5:  cost:36.17741394042969 - validation_accuracy:0.4687999486923218\n",
      "Epoch 49, CIFAR-10 Batch 1:  cost:37.82154083251953 - validation_accuracy:0.4731999635696411\n",
      "Epoch 49, CIFAR-10 Batch 2:  cost:19.544248580932617 - validation_accuracy:0.48559996485710144\n",
      "Epoch 49, CIFAR-10 Batch 3:  cost:0.4128512442111969 - validation_accuracy:0.46139994263648987\n",
      "Epoch 49, CIFAR-10 Batch 4:  cost:8.069043159484863 - validation_accuracy:0.4859999716281891\n",
      "Epoch 49, CIFAR-10 Batch 5:  cost:32.15663528442383 - validation_accuracy:0.4859999418258667\n",
      "Epoch 50, CIFAR-10 Batch 1:  cost:56.83659362792969 - validation_accuracy:0.4429999589920044\n",
      "Epoch 50, CIFAR-10 Batch 2:  cost:18.80282974243164 - validation_accuracy:0.477400004863739\n",
      "Epoch 50, CIFAR-10 Batch 3:  cost:0.0 - validation_accuracy:0.47859999537467957\n",
      "Epoch 50, CIFAR-10 Batch 4:  cost:8.814069747924805 - validation_accuracy:0.49139994382858276\n",
      "Epoch 50, CIFAR-10 Batch 5:  cost:30.690673828125 - validation_accuracy:0.48399996757507324\n"
     ]
    }
   ],
   "source": [
    "\"\"\"\n",
    "DON'T MODIFY ANYTHING IN THIS CELL\n",
    "\"\"\"\n",
    "save_model_path = './image_classification'\n",
    "\n",
    "print('Training...')\n",
    "with tf.Session() as sess:\n",
    "    # Initializing the variables\n",
    "    sess.run(tf.global_variables_initializer())\n",
    "    \n",
    "    # Training cycle\n",
    "    for epoch in range(epochs):\n",
    "        # Loop over all batches\n",
    "        n_batches = 5\n",
    "        for batch_i in range(1, n_batches + 1):\n",
    "            for batch_features, batch_labels in helper.load_preprocess_training_batch(batch_i, batch_size):\n",
    "                train_neural_network(sess, optimizer, keep_probability, batch_features, batch_labels)\n",
    "            print('Epoch {:>2}, CIFAR-10 Batch {}:  '.format(epoch + 1, batch_i), end='')\n",
    "            print_stats(sess, batch_features, batch_labels, cost, accuracy)\n",
    "            \n",
    "    # Save Model\n",
    "    saver = tf.train.Saver()\n",
    "    save_path = saver.save(sess, save_model_path)"
   ]
  },
  {
   "cell_type": "markdown",
   "metadata": {
    "deletable": true,
    "editable": true
   },
   "source": [
    "# Checkpoint\n",
    "The model has been saved to disk.\n",
    "## Test Model\n",
    "Test your model against the test dataset.  This will be your final accuracy. You should have an accuracy greater than 50%. If you don't, keep tweaking the model architecture and parameters."
   ]
  },
  {
   "cell_type": "code",
   "execution_count": 30,
   "metadata": {
    "collapsed": false,
    "deletable": true,
    "editable": true
   },
   "outputs": [
    {
     "name": "stdout",
     "output_type": "stream",
     "text": [
      "Testing Accuracy: 0.4846716772151899\n",
      "\n"
     ]
    },
    {
     "data": {
      "image/png": "[encoded data removed]",
      "text/plain": [
       "<matplotlib.figure.Figure at 0x7fe35f875da0>"
      ]
     },
     "metadata": {
      "image/png": {
       "height": 319,
       "width": 349
      }
     },
     "output_type": "display_data"
    }
   ],
   "source": [
    "\"\"\"\n",
    "DON'T MODIFY ANYTHING IN THIS CELL\n",
    "\"\"\"\n",
    "%matplotlib inline\n",
    "%config InlineBackend.figure_format = 'retina'\n",
    "\n",
    "import tensorflow as tf\n",
    "import pickle\n",
    "import helper\n",
    "import random\n",
    "\n",
    "# Set batch size if not already set\n",
    "try:\n",
    "    if batch_size:\n",
    "        pass\n",
    "except NameError:\n",
    "    batch_size = 64\n",
    "\n",
    "save_model_path = './image_classification'\n",
    "n_samples = 4\n",
    "top_n_predictions = 3\n",
    "\n",
    "def test_model():\n",
    "    \"\"\"\n",
    "    Test the saved model against the test dataset\n",
    "    \"\"\"\n",
    "\n",
    "    test_features, test_labels = pickle.load(open('preprocess_training.p', mode='rb'))\n",
    "    loaded_graph = tf.Graph()\n",
    "\n",
    "    with tf.Session(graph=loaded_graph) as sess:\n",
    "        # Load model\n",
    "        loader = tf.train.import_meta_graph(save_model_path + '.meta')\n",
    "        loader.restore(sess, save_model_path)\n",
    "\n",
    "        # Get Tensors from loaded model\n",
    "        loaded_x = loaded_graph.get_tensor_by_name('x:0')\n",
    "        loaded_y = loaded_graph.get_tensor_by_name('y:0')\n",
    "        loaded_keep_prob = loaded_graph.get_tensor_by_name('keep_prob:0')\n",
    "        loaded_logits = loaded_graph.get_tensor_by_name('logits:0')\n",
    "        loaded_acc = loaded_graph.get_tensor_by_name('accuracy:0')\n",
    "        \n",
    "        # Get accuracy in batches for memory limitations\n",
    "        test_batch_acc_total = 0\n",
    "        test_batch_count = 0\n",
    "        \n",
    "        for train_feature_batch, train_label_batch in helper.batch_features_labels(test_features, test_labels, batch_size):\n",
    "            test_batch_acc_total += sess.run(\n",
    "                loaded_acc,\n",
    "                feed_dict={loaded_x: train_feature_batch, loaded_y: train_label_batch, loaded_keep_prob: 1.0})\n",
    "            test_batch_count += 1\n",
    "\n",
    "        print('Testing Accuracy: {}\\n'.format(test_batch_acc_total/test_batch_count))\n",
    "\n",
    "        # Print Random Samples\n",
    "        random_test_features, random_test_labels = tuple(zip(*random.sample(list(zip(test_features, test_labels)), n_samples)))\n",
    "        random_test_predictions = sess.run(\n",
    "            tf.nn.top_k(tf.nn.softmax(loaded_logits), top_n_predictions),\n",
    "            feed_dict={loaded_x: random_test_features, loaded_y: random_test_labels, loaded_keep_prob: 1.0})\n",
    "        helper.display_image_predictions(random_test_features, random_test_labels, random_test_predictions)\n",
    "\n",
    "\n",
    "test_model()"
   ]
  },
  {
   "cell_type": "markdown",
   "metadata": {
    "deletable": true,
    "editable": true
   },
   "source": [
    "## Why 50-70% Accuracy?\n",
    "You might be wondering why you can't get an accuracy any higher. First things first, 50% isn't bad for a simple CNN.  Pure guessing would get you 10% accuracy. However, you might notice people are getting scores [well above 70%](http://rodrigob.github.io/are_we_there_yet/build/classification_datasets_results.html#43494641522d3130).  That's because we haven't taught you all there is to know about neural networks. We still need to cover a few more techniques.\n",
    "## Submitting This Project\n",
    "When submitting this project, make sure to run all the cells before saving the notebook.  Save the notebook file as \"dlnd_image_classification.ipynb\" and save it as a HTML file under \"File\" -> \"Download as\".  Include the \"helper.py\" and \"problem_unittests.py\" files in your submission."
   ]
  }
 ],
 "metadata": {
  "kernelspec": {
   "display_name": "Python 3",
   "language": "python",
   "name": "python3"
  },
  "language_info": {
   "codemirror_mode": {
    "name": "ipython",
    "version": 3
   },
   "file_extension": ".py",
   "mimetype": "text/x-python",
   "name": "python",
   "nbconvert_exporter": "python",
   "pygments_lexer": "ipython3",
   "version": "3.5.3"
  }
 },
 "nbformat": 4,
 "nbformat_minor": 0
}
