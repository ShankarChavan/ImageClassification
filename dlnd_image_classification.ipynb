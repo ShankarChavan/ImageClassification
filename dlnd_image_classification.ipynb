{
 "cells": [
  {
   "cell_type": "markdown",
   "metadata": {
    "collapsed": true,
    "deletable": true,
    "editable": true
   },
   "source": [
    "# Image Classification\n",
    "In this project, you'll classify images from the [CIFAR-10 dataset](https://www.cs.toronto.edu/~kriz/cifar.html).  The dataset consists of airplanes, dogs, cats, and other objects. You'll preprocess the images, then train a convolutional neural network on all the samples. The images need to be normalized and the labels need to be one-hot encoded.  You'll get to apply what you learned and build a convolutional, max pooling, dropout, and fully connected layers.  At the end, you'll get to see your neural network's predictions on the sample images.\n",
    "## Get the Data\n",
    "Run the following cell to download the [CIFAR-10 dataset for python](https://www.cs.toronto.edu/~kriz/cifar-10-python.tar.gz)."
   ]
  },
  {
   "cell_type": "code",
   "execution_count": 1,
   "metadata": {
    "collapsed": false,
    "deletable": true,
    "editable": true
   },
   "outputs": [
    {
     "name": "stdout",
     "output_type": "stream",
     "text": [
      "All files found!\n"
     ]
    }
   ],
   "source": [
    "\"\"\"\n",
    "DON'T MODIFY ANYTHING IN THIS CELL THAT IS BELOW THIS LINE\n",
    "\"\"\"\n",
    "from urllib.request import urlretrieve\n",
    "from os.path import isfile, isdir\n",
    "from tqdm import tqdm\n",
    "import problem_unittests as tests\n",
    "import tarfile\n",
    "\n",
    "cifar10_dataset_folder_path = 'cifar-10-batches-py'\n",
    "\n",
    "# Use Floyd's cifar-10 dataset if present\n",
    "floyd_cifar10_location = '/input/cifar-10/python.tar.gz'\n",
    "if isfile(floyd_cifar10_location):\n",
    "    tar_gz_path = floyd_cifar10_location\n",
    "else:\n",
    "    tar_gz_path = 'cifar-10-python.tar.gz'\n",
    "\n",
    "class DLProgress(tqdm):\n",
    "    last_block = 0\n",
    "\n",
    "    def hook(self, block_num=1, block_size=1, total_size=None):\n",
    "        self.total = total_size\n",
    "        self.update((block_num - self.last_block) * block_size)\n",
    "        self.last_block = block_num\n",
    "\n",
    "if not isfile(tar_gz_path):\n",
    "    with DLProgress(unit='B', unit_scale=True, miniters=1, desc='CIFAR-10 Dataset') as pbar:\n",
    "        urlretrieve(\n",
    "            'https://www.cs.toronto.edu/~kriz/cifar-10-python.tar.gz',\n",
    "            tar_gz_path,\n",
    "            pbar.hook)\n",
    "\n",
    "if not isdir(cifar10_dataset_folder_path):\n",
    "    with tarfile.open(tar_gz_path) as tar:\n",
    "        tar.extractall()\n",
    "        tar.close()\n",
    "\n",
    "\n",
    "tests.test_folder_path(cifar10_dataset_folder_path)"
   ]
  },
  {
   "cell_type": "markdown",
   "metadata": {
    "deletable": true,
    "editable": true
   },
   "source": [
    "## Explore the Data\n",
    "The dataset is broken into batches to prevent your machine from running out of memory.  The CIFAR-10 dataset consists of 5 batches, named `data_batch_1`, `data_batch_2`, etc.. Each batch contains the labels and images that are one of the following:\n",
    "* airplane\n",
    "* automobile\n",
    "* bird\n",
    "* cat\n",
    "* deer\n",
    "* dog\n",
    "* frog\n",
    "* horse\n",
    "* ship\n",
    "* truck\n",
    "\n",
    "Understanding a dataset is part of making predictions on the data.  Play around with the code cell below by changing the `batch_id` and `sample_id`. The `batch_id` is the id for a batch (1-5). The `sample_id` is the id for a image and label pair in the batch.\n",
    "\n",
    "Ask yourself \"What are all possible labels?\", \"What is the range of values for the image data?\", \"Are the labels in order or random?\".  Answers to questions like these will help you preprocess the data and end up with better predictions."
   ]
  },
  {
   "cell_type": "code",
   "execution_count": 2,
   "metadata": {
    "collapsed": false,
    "deletable": true,
    "editable": true
   },
   "outputs": [
    {
     "name": "stdout",
     "output_type": "stream",
     "text": [
      "\n",
      "Stats of batch 1:\n",
      "Samples: 10000\n",
      "Label Counts: {0: 1005, 1: 974, 2: 1032, 3: 1016, 4: 999, 5: 937, 6: 1030, 7: 1001, 8: 1025, 9: 981}\n",
      "First 20 Labels: [6, 9, 9, 4, 1, 1, 2, 7, 8, 3, 4, 7, 7, 2, 9, 9, 9, 3, 2, 6]\n",
      "\n",
      "Example of Image 5:\n",
      "Image - Min Value: 0 Max Value: 252\n",
      "Image - Shape: (32, 32, 3)\n",
      "Label - Label Id: 1 Name: automobile\n"
     ]
    },
    {
     "data": {
      "image/png": "[encoded data removed]",
      "text/plain": [
       "<matplotlib.figure.Figure at 0x7f73c589e7b8>"
      ]
     },
     "metadata": {
      "image/png": {
       "height": 250,
       "width": 253
      }
     },
     "output_type": "display_data"
    }
   ],
   "source": [
    "%matplotlib inline\n",
    "%config InlineBackend.figure_format = 'retina'\n",
    "\n",
    "import helper\n",
    "import numpy as np\n",
    "\n",
    "# Explore the dataset\n",
    "batch_id = 1\n",
    "sample_id = 5\n",
    "helper.display_stats(cifar10_dataset_folder_path, batch_id, sample_id)"
   ]
  },
  {
   "cell_type": "markdown",
   "metadata": {
    "deletable": true,
    "editable": true
   },
   "source": [
    "## Implement Preprocess Functions\n",
    "### Normalize\n",
    "In the cell below, implement the `normalize` function to take in image data, `x`, and return it as a normalized Numpy array. The values should be in the range of 0 to 1, inclusive.  The return object should be the same shape as `x`."
   ]
  },
  {
   "cell_type": "code",
   "execution_count": 3,
   "metadata": {
    "collapsed": false,
    "deletable": true,
    "editable": true
   },
   "outputs": [
    {
     "name": "stdout",
     "output_type": "stream",
     "text": [
      "Tests Passed\n"
     ]
    }
   ],
   "source": [
    "def normalize(x):\n",
    "    \"\"\"\n",
    "    Normalize a list of sample image data in the range of 0 to 1\n",
    "    : x: List of image data.  The image shape is (32, 32, 3)\n",
    "    : return: Numpy array of normalize data\n",
    "    \"\"\"\n",
    "    # TODO: Implement Function\n",
    "    a=0.1\n",
    "    b=0.9\n",
    "    x_min=0\n",
    "    x_max=255\n",
    "    return (a+((x-x_min)*(b-a))/(x_max-x_min))\n",
    "\n",
    "\n",
    "\"\"\"\n",
    "DON'T MODIFY ANYTHING IN THIS CELL THAT IS BELOW THIS LINE\n",
    "\"\"\"\n",
    "tests.test_normalize(normalize)"
   ]
  },
  {
   "cell_type": "markdown",
   "metadata": {
    "deletable": true,
    "editable": true
   },
   "source": [
    "### One-hot encode\n",
    "Just like the previous code cell, you'll be implementing a function for preprocessing.  This time, you'll implement the `one_hot_encode` function. The input, `x`, are a list of labels.  Implement the function to return the list of labels as One-Hot encoded Numpy array.  The possible values for labels are 0 to 9. The one-hot encoding function should return the same encoding for each value between each call to `one_hot_encode`.  Make sure to save the map of encodings outside the function.\n",
    "\n",
    "Hint: Don't reinvent the wheel."
   ]
  },
  {
   "cell_type": "code",
   "execution_count": 4,
   "metadata": {
    "collapsed": false,
    "deletable": true,
    "editable": true
   },
   "outputs": [
    {
     "name": "stdout",
     "output_type": "stream",
     "text": [
      "Tests Passed\n"
     ]
    }
   ],
   "source": [
    "def one_hot_encode(x):\n",
    "    \"\"\"\n",
    "    One hot encode a list of sample labels. Return a one-hot encoded vector for each label.\n",
    "    : x: List of sample Labels\n",
    "    : return: Numpy array of one-hot encoded labels\n",
    "    \"\"\"\n",
    "    # TODO: Implement Function\n",
    "    y=np.zeros((len(x),10))\n",
    "    for i in range(len(x)):\n",
    "        y[i,x[i]]=1\n",
    "    \n",
    "    return y\n",
    "\n",
    "\n",
    "\"\"\"\n",
    "DON'T MODIFY ANYTHING IN THIS CELL THAT IS BELOW THIS LINE\n",
    "\"\"\"\n",
    "tests.test_one_hot_encode(one_hot_encode)"
   ]
  },
  {
   "cell_type": "markdown",
   "metadata": {
    "deletable": true,
    "editable": true
   },
   "source": [
    "### Randomize Data\n",
    "As you saw from exploring the data above, the order of the samples are randomized.  It doesn't hurt to randomize it again, but you don't need to for this dataset."
   ]
  },
  {
   "cell_type": "markdown",
   "metadata": {
    "deletable": true,
    "editable": true
   },
   "source": [
    "## Preprocess all the data and save it\n",
    "Running the code cell below will preprocess all the CIFAR-10 data and save it to file. The code below also uses 10% of the training data for validation."
   ]
  },
  {
   "cell_type": "code",
   "execution_count": 5,
   "metadata": {
    "collapsed": false,
    "deletable": true,
    "editable": true
   },
   "outputs": [],
   "source": [
    "\"\"\"\n",
    "DON'T MODIFY ANYTHING IN THIS CELL\n",
    "\"\"\"\n",
    "# Preprocess Training, Validation, and Testing Data\n",
    "helper.preprocess_and_save_data(cifar10_dataset_folder_path, normalize, one_hot_encode)"
   ]
  },
  {
   "cell_type": "markdown",
   "metadata": {
    "deletable": true,
    "editable": true
   },
   "source": [
    "# Check Point\n",
    "This is your first checkpoint.  If you ever decide to come back to this notebook or have to restart the notebook, you can start from here.  The preprocessed data has been saved to disk."
   ]
  },
  {
   "cell_type": "code",
   "execution_count": 6,
   "metadata": {
    "collapsed": true,
    "deletable": true,
    "editable": true
   },
   "outputs": [],
   "source": [
    "\"\"\"\n",
    "DON'T MODIFY ANYTHING IN THIS CELL\n",
    "\"\"\"\n",
    "import pickle\n",
    "import problem_unittests as tests\n",
    "import helper\n",
    "\n",
    "# Load the Preprocessed Validation data\n",
    "valid_features, valid_labels = pickle.load(open('preprocess_validation.p', mode='rb'))"
   ]
  },
  {
   "cell_type": "code",
   "execution_count": 9,
   "metadata": {
    "collapsed": false
   },
   "outputs": [
    {
     "name": "stdout",
     "output_type": "stream",
     "text": [
      "validation features\n",
      "[[[[ 0.53921569  0.49215686  0.46078431]\n",
      "   [ 0.55803922  0.50784314  0.4827451 ]\n",
      "   [ 0.54862745  0.49843137  0.4827451 ]\n",
      "   ..., \n",
      "   [ 0.63333333  0.55490196  0.51098039]\n",
      "   [ 0.65215686  0.57058824  0.52039216]\n",
      "   [ 0.63333333  0.56117647  0.5172549 ]]\n",
      "\n",
      "  [[ 0.47960784  0.43882353  0.50470588]\n",
      "   [ 0.50784314  0.47019608  0.53607843]\n",
      "   [ 0.52039216  0.47960784  0.54862745]\n",
      "   ..., \n",
      "   [ 0.61137255  0.54235294  0.59254902]\n",
      "   [ 0.63333333  0.55803922  0.60509804]\n",
      "   [ 0.63333333  0.56431373  0.60509804]]\n",
      "\n",
      "  [[ 0.57686275  0.53607843  0.64588235]\n",
      "   [ 0.59254902  0.55490196  0.66156863]\n",
      "   [ 0.58627451  0.54862745  0.64901961]\n",
      "   ..., \n",
      "   [ 0.65529412  0.58313725  0.7054902 ]\n",
      "   [ 0.66784314  0.58941176  0.70862745]\n",
      "   [ 0.67411765  0.60196078  0.70862745]]\n",
      "\n",
      "  ..., \n",
      "  [[ 0.49215686  0.44509804  0.42      ]\n",
      "   [ 0.50470588  0.45137255  0.42313725]\n",
      "   [ 0.33843137  0.31019608  0.24745098]\n",
      "   ..., \n",
      "   [ 0.62705882  0.52980392  0.47647059]\n",
      "   [ 0.59568627  0.49529412  0.42313725]\n",
      "   [ 0.55803922  0.46392157  0.37294118]]\n",
      "\n",
      "  [[ 0.36666667  0.34156863  0.31960784]\n",
      "   [ 0.39490196  0.35411765  0.3227451 ]\n",
      "   [ 0.33215686  0.30392157  0.24117647]\n",
      "   ..., \n",
      "   [ 0.60823529  0.51411765  0.43254902]\n",
      "   [ 0.62078431  0.52039216  0.41372549]\n",
      "   [ 0.59568627  0.50156863  0.38862745]]\n",
      "\n",
      "  [[ 0.49215686  0.45137255  0.44823529]\n",
      "   [ 0.50784314  0.4545098   0.44823529]\n",
      "   [ 0.42941176  0.3854902   0.33529412]\n",
      "   ..., \n",
      "   [ 0.51411765  0.43254902  0.34470588]\n",
      "   [ 0.50784314  0.41686275  0.30078431]\n",
      "   [ 0.5454902   0.46078431  0.34470588]]]\n",
      "\n",
      "\n",
      " [[[ 0.41372549  0.44196078  0.36352941]\n",
      "   [ 0.4827451   0.49529412  0.44196078]\n",
      "   [ 0.37294118  0.37294118  0.33843137]\n",
      "   ..., \n",
      "   [ 0.33529412  0.34470588  0.31647059]\n",
      "   [ 0.31960784  0.32901961  0.30078431]\n",
      "   [ 0.31960784  0.32901961  0.30078431]]\n",
      "\n",
      "  [[ 0.36980392  0.41058824  0.3227451 ]\n",
      "   [ 0.33843137  0.36352941  0.30705882]\n",
      "   [ 0.28823529  0.30078431  0.26941176]\n",
      "   ..., \n",
      "   [ 0.34470588  0.35411765  0.32588235]\n",
      "   [ 0.33843137  0.34784314  0.31960784]\n",
      "   [ 0.3572549   0.36666667  0.33843137]]\n",
      "\n",
      "  [[ 0.36352941  0.41372549  0.32901961]\n",
      "   [ 0.36039216  0.39803922  0.33529412]\n",
      "   [ 0.34156863  0.36980392  0.32588235]\n",
      "   ..., \n",
      "   [ 0.33215686  0.34156863  0.31333333]\n",
      "   [ 0.32901961  0.33843137  0.31019608]\n",
      "   [ 0.36039216  0.36980392  0.34156863]]\n",
      "\n",
      "  ..., \n",
      "  [[ 0.30078431  0.34156863  0.34784314]\n",
      "   [ 0.4827451   0.5172549   0.55176471]\n",
      "   [ 0.52039216  0.55490196  0.58941176]\n",
      "   ..., \n",
      "   [ 0.42941176  0.48588235  0.47647059]\n",
      "   [ 0.36352941  0.42313725  0.3854902 ]\n",
      "   [ 0.28823529  0.37607843  0.29764706]]\n",
      "\n",
      "  [[ 0.23803922  0.26        0.27568627]\n",
      "   [ 0.34470588  0.36352941  0.39490196]\n",
      "   [ 0.40117647  0.41686275  0.44509804]\n",
      "   ..., \n",
      "   [ 0.56117647  0.61764706  0.65843137]\n",
      "   [ 0.49529412  0.54862745  0.56745098]\n",
      "   [ 0.39490196  0.46705882  0.4545098 ]]\n",
      "\n",
      "  [[ 0.21294118  0.20980392  0.22235294]\n",
      "   [ 0.28509804  0.28196078  0.30705882]\n",
      "   [ 0.3572549   0.35411765  0.36666667]\n",
      "   ..., \n",
      "   [ 0.52039216  0.58        0.60196078]\n",
      "   [ 0.53294118  0.57686275  0.59568627]\n",
      "   [ 0.50784314  0.56431373  0.57058824]]]\n",
      "\n",
      "\n",
      " [[[ 0.15960784  0.20039216  0.14705882]\n",
      "   [ 0.16588235  0.21921569  0.16588235]\n",
      "   [ 0.18470588  0.25372549  0.20039216]\n",
      "   ..., \n",
      "   [ 0.33529412  0.48901961  0.51098039]\n",
      "   [ 0.33843137  0.48901961  0.50784314]\n",
      "   [ 0.3227451   0.47019608  0.48901961]]\n",
      "\n",
      "  [[ 0.17215686  0.1972549   0.14392157]\n",
      "   [ 0.16588235  0.19411765  0.13764706]\n",
      "   [ 0.17215686  0.20980392  0.14392157]\n",
      "   ..., \n",
      "   [ 0.32588235  0.47019608  0.49529412]\n",
      "   [ 0.33529412  0.47333333  0.48901961]\n",
      "   [ 0.31333333  0.44823529  0.45764706]]\n",
      "\n",
      "  [[ 0.17529412  0.21607843  0.15333333]\n",
      "   [ 0.16901961  0.20980392  0.15019608]\n",
      "   [ 0.17529412  0.21294118  0.15647059]\n",
      "   ..., \n",
      "   [ 0.30078431  0.44196078  0.45137255]\n",
      "   [ 0.31019608  0.44196078  0.44823529]\n",
      "   [ 0.30078431  0.42941176  0.42941176]]\n",
      "\n",
      "  ..., \n",
      "  [[ 0.2945098   0.24431373  0.17215686]\n",
      "   [ 0.28823529  0.24431373  0.18470588]\n",
      "   [ 0.27254902  0.25058824  0.18784314]\n",
      "   ..., \n",
      "   [ 0.14078431  0.11882353  0.11254902]\n",
      "   [ 0.13764706  0.14392157  0.12509804]\n",
      "   [ 0.17843137  0.2254902   0.19411765]]\n",
      "\n",
      "  [[ 0.29764706  0.26627451  0.19411765]\n",
      "   [ 0.25372549  0.24117647  0.16901961]\n",
      "   [ 0.24117647  0.24431373  0.17215686]\n",
      "   ..., \n",
      "   [ 0.19098039  0.20980392  0.1972549 ]\n",
      "   [ 0.19411765  0.23176471  0.21607843]\n",
      "   [ 0.18470588  0.25686275  0.23490196]]\n",
      "\n",
      "  [[ 0.31647059  0.26313725  0.19098039]\n",
      "   [ 0.25372549  0.21921569  0.1627451 ]\n",
      "   [ 0.26941176  0.24431373  0.18470588]\n",
      "   ..., \n",
      "   [ 0.30705882  0.37607843  0.36666667]\n",
      "   [ 0.2254902   0.31333333  0.30078431]\n",
      "   [ 0.19098039  0.2945098   0.28196078]]]\n",
      "\n",
      "\n",
      " ..., \n",
      " [[[ 0.20980392  0.65843137  0.8372549 ]\n",
      "   [ 0.2254902   0.65215686  0.84980392]\n",
      "   [ 0.23176471  0.65215686  0.85607843]\n",
      "   ..., \n",
      "   [ 0.41058824  0.65529412  0.78705882]\n",
      "   [ 0.34784314  0.56117647  0.71803922]\n",
      "   [ 0.37921569  0.56431373  0.69294118]]\n",
      "\n",
      "  [[ 0.27882353  0.67098039  0.83411765]\n",
      "   [ 0.23803922  0.6772549   0.88431373]\n",
      "   [ 0.25686275  0.67411765  0.85294118]\n",
      "   ..., \n",
      "   [ 0.58941176  0.67098039  0.72745098]\n",
      "   [ 0.54235294  0.65529412  0.74627451]\n",
      "   [ 0.46392157  0.56745098  0.64901961]]\n",
      "\n",
      "  [[ 0.40745098  0.71803922  0.84352941]\n",
      "   [ 0.30078431  0.69294118  0.89058824]\n",
      "   [ 0.31647059  0.70235294  0.86862745]\n",
      "   ..., \n",
      "   [ 0.68980392  0.71176471  0.74627451]\n",
      "   [ 0.47333333  0.52352941  0.56117647]\n",
      "   [ 0.29137255  0.34784314  0.38235294]]\n",
      "\n",
      "  ..., \n",
      "  [[ 0.32901961  0.34784314  0.34156863]\n",
      "   [ 0.26627451  0.29764706  0.31333333]\n",
      "   [ 0.26941176  0.31333333  0.35098039]\n",
      "   ..., \n",
      "   [ 0.15333333  0.2254902   0.30078431]\n",
      "   [ 0.16588235  0.21294118  0.26      ]\n",
      "   [ 0.20352941  0.25058824  0.25372549]]\n",
      "\n",
      "  [[ 0.29137255  0.31333333  0.33529412]\n",
      "   [ 0.27254902  0.31960784  0.36980392]\n",
      "   [ 0.27882353  0.34784314  0.42313725]\n",
      "   ..., \n",
      "   [ 0.17529412  0.25058824  0.32588235]\n",
      "   [ 0.15333333  0.20980392  0.26627451]\n",
      "   [ 0.12196078  0.17215686  0.20039216]]\n",
      "\n",
      "  [[ 0.23803922  0.27568627  0.32901961]\n",
      "   [ 0.24431373  0.30705882  0.37607843]\n",
      "   [ 0.25372549  0.34156863  0.42941176]\n",
      "   ..., \n",
      "   [ 0.18470588  0.26313725  0.34156863]\n",
      "   [ 0.16588235  0.23490196  0.30705882]\n",
      "   [ 0.13764706  0.1972549   0.25686275]]]\n",
      "\n",
      "\n",
      " [[[ 0.69294118  0.76196078  0.85294118]\n",
      "   [ 0.68352941  0.75254902  0.84039216]\n",
      "   [ 0.68039216  0.74941176  0.8372549 ]\n",
      "   ..., \n",
      "   [ 0.64901961  0.71176471  0.8027451 ]\n",
      "   [ 0.63960784  0.70862745  0.79647059]\n",
      "   [ 0.63019608  0.70862745  0.79019608]]\n",
      "\n",
      "  [[ 0.70862745  0.75882353  0.84980392]\n",
      "   [ 0.69921569  0.74941176  0.84039216]\n",
      "   [ 0.69607843  0.74627451  0.8372549 ]\n",
      "   ..., \n",
      "   [ 0.6427451   0.70235294  0.79019608]\n",
      "   [ 0.63647059  0.69921569  0.78392157]\n",
      "   [ 0.62392157  0.69607843  0.77764706]]\n",
      "\n",
      "  [[ 0.75254902  0.78705882  0.8654902 ]\n",
      "   [ 0.74313725  0.77764706  0.85294118]\n",
      "   [ 0.74        0.7745098   0.84980392]\n",
      "   ..., \n",
      "   [ 0.64901961  0.69921569  0.78078431]\n",
      "   [ 0.63960784  0.69607843  0.77764706]\n",
      "   [ 0.63019608  0.69921569  0.7745098 ]]\n",
      "\n",
      "  ..., \n",
      "  [[ 0.74941176  0.72431373  0.66784314]\n",
      "   [ 0.73686275  0.71176471  0.64901961]\n",
      "   [ 0.73686275  0.71490196  0.6427451 ]\n",
      "   ..., \n",
      "   [ 0.52352941  0.51411765  0.49843137]\n",
      "   [ 0.60823529  0.59568627  0.57058824]\n",
      "   [ 0.62705882  0.61137255  0.57372549]]\n",
      "\n",
      "  [[ 0.72117647  0.69607843  0.63333333]\n",
      "   [ 0.69294118  0.66784314  0.59882353]\n",
      "   [ 0.66470588  0.63960784  0.56117647]\n",
      "   ..., \n",
      "   [ 0.65843137  0.63647059  0.60196078]\n",
      "   [ 0.64901961  0.63019608  0.58941176]\n",
      "   [ 0.64901961  0.63019608  0.58313725]]\n",
      "\n",
      "  [[ 0.72117647  0.69294118  0.6427451 ]\n",
      "   [ 0.69294118  0.66784314  0.60823529]\n",
      "   [ 0.65843137  0.63333333  0.56745098]\n",
      "   ..., \n",
      "   [ 0.71176471  0.6772549   0.63019608]\n",
      "   [ 0.71490196  0.69294118  0.63647059]\n",
      "   [ 0.71176471  0.69607843  0.63647059]]]\n",
      "\n",
      "\n",
      " [[[ 0.81843137  0.81843137  0.84980392]\n",
      "   [ 0.84039216  0.84352941  0.87490196]\n",
      "   [ 0.83411765  0.84039216  0.87490196]\n",
      "   ..., \n",
      "   [ 0.78078431  0.78705882  0.83098039]\n",
      "   [ 0.79333333  0.79960784  0.83411765]\n",
      "   [ 0.79647059  0.79960784  0.83098039]]\n",
      "\n",
      "  [[ 0.79647059  0.79333333  0.81843137]\n",
      "   [ 0.84980392  0.84980392  0.88117647]\n",
      "   [ 0.83098039  0.83411765  0.87176471]\n",
      "   ..., \n",
      "   [ 0.79960784  0.79960784  0.84039216]\n",
      "   [ 0.81215686  0.81529412  0.84666667]\n",
      "   [ 0.75882353  0.76196078  0.79019608]]\n",
      "\n",
      "  [[ 0.76823529  0.74627451  0.76196078]\n",
      "   [ 0.83411765  0.82784314  0.84980392]\n",
      "   [ 0.82470588  0.83098039  0.8654902 ]\n",
      "   ..., \n",
      "   [ 0.79019608  0.79019608  0.82784314]\n",
      "   [ 0.79019608  0.78705882  0.82784314]\n",
      "   [ 0.73372549  0.73686275  0.7745098 ]]\n",
      "\n",
      "  ..., \n",
      "  [[ 0.57058824  0.54862745  0.52352941]\n",
      "   [ 0.53921569  0.52352941  0.49843137]\n",
      "   [ 0.51411765  0.49843137  0.47647059]\n",
      "   ..., \n",
      "   [ 0.8027451   0.79647059  0.78392157]\n",
      "   [ 0.82156863  0.81529412  0.80588235]\n",
      "   [ 0.85607843  0.85607843  0.84666667]]\n",
      "\n",
      "  [[ 0.52980392  0.51411765  0.49529412]\n",
      "   [ 0.50784314  0.49843137  0.47647059]\n",
      "   [ 0.49215686  0.47960784  0.46078431]\n",
      "   ..., \n",
      "   [ 0.66784314  0.66470588  0.65843137]\n",
      "   [ 0.73372549  0.73058824  0.72117647]\n",
      "   [ 0.76509804  0.76196078  0.74941176]]\n",
      "\n",
      "  [[ 0.4827451   0.47333333  0.45764706]\n",
      "   [ 0.47019608  0.46392157  0.44509804]\n",
      "   [ 0.47647059  0.46392157  0.44823529]\n",
      "   ..., \n",
      "   [ 0.66156863  0.65529412  0.6427451 ]\n",
      "   [ 0.6145098   0.6145098   0.60823529]\n",
      "   [ 0.61137255  0.61137255  0.60509804]]]]\n",
      "validation labels\n",
      "[[ 0.  0.  0. ...,  0.  0.  0.]\n",
      " [ 0.  0.  1. ...,  0.  0.  0.]\n",
      " [ 0.  0.  1. ...,  0.  0.  0.]\n",
      " ..., \n",
      " [ 0.  0.  0. ...,  0.  0.  1.]\n",
      " [ 0.  1.  0. ...,  0.  0.  0.]\n",
      " [ 0.  1.  0. ...,  0.  0.  0.]]\n"
     ]
    }
   ],
   "source": [
    "print ('validation features')\n",
    "print (valid_features)\n",
    "print ('validation labels')\n",
    "print (valid_labels)"
   ]
  },
  {
   "cell_type": "markdown",
   "metadata": {
    "deletable": true,
    "editable": true
   },
   "source": [
    "## Build the network\n",
    "For the neural network, you'll build each layer into a function.  Most of the code you've seen has been outside of functions. To test your code more thoroughly, we require that you put each layer in a function.  This allows us to give you better feedback and test for simple mistakes using our unittests before you submit your project.\n",
    "\n",
    ">**Note:** If you're finding it hard to dedicate enough time for this course each week, we've provided a small shortcut to this part of the project. In the next couple of problems, you'll have the option to use classes from the [TensorFlow Layers](https://www.tensorflow.org/api_docs/python/tf/layers) or [TensorFlow Layers (contrib)](https://www.tensorflow.org/api_guides/python/contrib.layers) packages to build each layer, except the layers you build in the \"Convolutional and Max Pooling Layer\" section.  TF Layers is similar to Keras's and TFLearn's abstraction to layers, so it's easy to pickup.\n",
    "\n",
    ">However, if you would like to get the most out of this course, try to solve all the problems _without_ using anything from the TF Layers packages. You **can** still use classes from other packages that happen to have the same name as ones you find in TF Layers! For example, instead of using the TF Layers version of the `conv2d` class, [tf.layers.conv2d](https://www.tensorflow.org/api_docs/python/tf/layers/conv2d), you would want to use the TF Neural Network version of `conv2d`, [tf.nn.conv2d](https://www.tensorflow.org/api_docs/python/tf/nn/conv2d). \n",
    "\n",
    "Let's begin!\n",
    "\n",
    "### Input\n",
    "The neural network needs to read the image data, one-hot encoded labels, and dropout keep probability. Implement the following functions\n",
    "* Implement `neural_net_image_input`\n",
    " * Return a [TF Placeholder](https://www.tensorflow.org/api_docs/python/tf/placeholder)\n",
    " * Set the shape using `image_shape` with batch size set to `None`.\n",
    " * Name the TensorFlow placeholder \"x\" using the TensorFlow `name` parameter in the [TF Placeholder](https://www.tensorflow.org/api_docs/python/tf/placeholder).\n",
    "* Implement `neural_net_label_input`\n",
    " * Return a [TF Placeholder](https://www.tensorflow.org/api_docs/python/tf/placeholder)\n",
    " * Set the shape using `n_classes` with batch size set to `None`.\n",
    " * Name the TensorFlow placeholder \"y\" using the TensorFlow `name` parameter in the [TF Placeholder](https://www.tensorflow.org/api_docs/python/tf/placeholder).\n",
    "* Implement `neural_net_keep_prob_input`\n",
    " * Return a [TF Placeholder](https://www.tensorflow.org/api_docs/python/tf/placeholder) for dropout keep probability.\n",
    " * Name the TensorFlow placeholder \"keep_prob\" using the TensorFlow `name` parameter in the [TF Placeholder](https://www.tensorflow.org/api_docs/python/tf/placeholder).\n",
    "\n",
    "These names will be used at the end of the project to load your saved model.\n",
    "\n",
    "Note: `None` for shapes in TensorFlow allow for a dynamic size."
   ]
  },
  {
   "cell_type": "code",
   "execution_count": 19,
   "metadata": {
    "collapsed": false,
    "deletable": true,
    "editable": true
   },
   "outputs": [
    {
     "name": "stdout",
     "output_type": "stream",
     "text": [
      "Image Input Tests Passed.\n",
      "Label Input Tests Passed.\n",
      "Keep Prob Tests Passed.\n"
     ]
    }
   ],
   "source": [
    "import tensorflow as tf\n",
    "\n",
    "def neural_net_image_input(image_shape):\n",
    "    \"\"\"\n",
    "    Return a Tensor for a bach of image input\n",
    "    : image_shape: Shape of the images\n",
    "    : return: Tensor for image input.\n",
    "    \"\"\"\n",
    "    # TODO: Implement Function\n",
    "    return tf.placeholder(tf.float32,[None]+list(image_shape),'x')\n",
    "\n",
    "\n",
    "def neural_net_label_input(n_classes):\n",
    "    \"\"\"\n",
    "    Return a Tensor for a batch of label input\n",
    "    : n_classes: Number of classes\n",
    "    : return: Tensor for label input.\n",
    "    \"\"\"\n",
    "    # TODO: Implement Function\n",
    "    return tf.placeholder(tf.float32,[None,n_classes],'y')\n",
    "\n",
    "\n",
    "def neural_net_keep_prob_input():\n",
    "    \"\"\"\n",
    "    Return a Tensor for keep probability\n",
    "    : return: Tensor for keep probability.\n",
    "    \"\"\"\n",
    "    # TODO: Implement Function\n",
    "    return tf.placeholder(tf.float32,None,'keep_prob')\n",
    "\n",
    "\n",
    "\"\"\"\n",
    "DON'T MODIFY ANYTHING IN THIS CELL THAT IS BELOW THIS LINE\n",
    "\"\"\"\n",
    "tf.reset_default_graph()\n",
    "tests.test_nn_image_inputs(neural_net_image_input)\n",
    "tests.test_nn_label_inputs(neural_net_label_input)\n",
    "tests.test_nn_keep_prob_inputs(neural_net_keep_prob_input)"
   ]
  },
  {
   "cell_type": "markdown",
   "metadata": {
    "deletable": true,
    "editable": true
   },
   "source": [
    "### Convolution and Max Pooling Layer\n",
    "Convolution layers have a lot of success with images. For this code cell, you should implement the function `conv2d_maxpool` to apply convolution then max pooling:\n",
    "* Create the weight and bias using `conv_ksize`, `conv_num_outputs` and the shape of `x_tensor`.\n",
    "* Apply a convolution to `x_tensor` using weight and `conv_strides`.\n",
    " * We recommend you use same padding, but you're welcome to use any padding.\n",
    "* Add bias\n",
    "* Add a nonlinear activation to the convolution.\n",
    "* Apply Max Pooling using `pool_ksize` and `pool_strides`.\n",
    " * We recommend you use same padding, but you're welcome to use any padding.\n",
    "\n",
    "**Note:** You **can't** use [TensorFlow Layers](https://www.tensorflow.org/api_docs/python/tf/layers) or [TensorFlow Layers (contrib)](https://www.tensorflow.org/api_guides/python/contrib.layers) for **this** layer, but you can still use TensorFlow's [Neural Network](https://www.tensorflow.org/api_docs/python/tf/nn) package. You may still use the shortcut option for all the **other** layers."
   ]
  },
  {
   "cell_type": "code",
   "execution_count": 35,
   "metadata": {
    "collapsed": false,
    "deletable": true,
    "editable": true
   },
   "outputs": [
    {
     "name": "stdout",
     "output_type": "stream",
     "text": [
      "Tests Passed\n"
     ]
    }
   ],
   "source": [
    "def conv2d_maxpool(x_tensor, conv_num_outputs, conv_ksize, conv_strides, pool_ksize, pool_strides):\n",
    "    \"\"\"\n",
    "    Apply convolution then max pooling to x_tensor\n",
    "    :param x_tensor: TensorFlow Tensor\n",
    "    :param conv_num_outputs: Number of outputs for the convolutional layer\n",
    "    :param conv_ksize: kernal size 2-D Tuple for the convolutional layer\n",
    "    :param conv_strides: Stride 2-D Tuple for convolution\n",
    "    :param pool_ksize: kernal size 2-D Tuple for pool\n",
    "    :param pool_strides: Stride 2-D Tuple for pool\n",
    "    : return: A tensor that represents convolution and max pooling of x_tensor\n",
    "    \"\"\"\n",
    "    # TODO: Implement Function    \n",
    "    inp_depth=x_tensor.get_shape().as_list()[-1]\n",
    "    \n",
    "    #filter_bias=zeros(Num_of_output) bias initialised with zeros\n",
    "    f_bias=tf.Variable(tf.zeros(conv_num_outputs))\n",
    "    \n",
    "    # filtershape=(height, width, input_depth, output_depth)\n",
    "    shp=[conv_ksize[0],conv_ksize[1],inp_depth,conv_num_outputs] \n",
    "    \n",
    "    f_weights=tf.Variable(tf.random_normal(shp)) #filter weights initialized randomly\n",
    "    \n",
    "    #step1: apply conv on input tensors\n",
    "    # signature: tf.nn.conv2d(input, filter, strides, padding, use_cudnn_on_gpu=None, data_format=None, name=None)\n",
    "    conv_l=tf.nn.conv2d(x_tensor,f_weights,[1,conv_strides[0],conv_strides[1],1],'SAME')\n",
    "    \n",
    "    #step2: Add bias to the conv\n",
    "    #Signature: tf.nn.bias_add(value, bias, data_format=None, name=None)\n",
    "    conv_l=tf.nn.bias_add(conv_l,f_bias)\n",
    "    \n",
    "    #step3: Add nonlinear function\n",
    "    #Signature: tf.nn.relu(features, name=None)\n",
    "    conv_l=tf.nn.relu(conv_l)\n",
    "    \n",
    "    #step 4: add Max_pool\n",
    "    #Signature: tf.nn.max_pool(value, ksize, strides, padding, data_format='NHWC', name=None)\n",
    "    return tf.nn.max_pool(conv_l,[1,pool_ksize[0],pool_ksize[1],1],[1,pool_strides[0],pool_strides[1],1],'SAME')\n",
    "\n",
    "\"\"\"\n",
    "DON'T MODIFY ANYTHING IN THIS CELL THAT IS BELOW THIS LINE\n",
    "\"\"\"\n",
    "tests.test_con_pool(conv2d_maxpool)"
   ]
  },
  {
   "cell_type": "markdown",
   "metadata": {
    "deletable": true,
    "editable": true
   },
   "source": [
    "### Flatten Layer\n",
    "Implement the `flatten` function to change the dimension of `x_tensor` from a 4-D tensor to a 2-D tensor.  The output should be the shape (*Batch Size*, *Flattened Image Size*). Shortcut option: you can use classes from the [TensorFlow Layers](https://www.tensorflow.org/api_docs/python/tf/layers) or [TensorFlow Layers (contrib)](https://www.tensorflow.org/api_guides/python/contrib.layers) packages for this layer. For more of a challenge, only use other TensorFlow packages."
   ]
  },
  {
   "cell_type": "code",
   "execution_count": 38,
   "metadata": {
    "collapsed": false,
    "deletable": true,
    "editable": true
   },
   "outputs": [
    {
     "name": "stdout",
     "output_type": "stream",
     "text": [
      "Tests Passed\n"
     ]
    }
   ],
   "source": [
    "def flatten(x_tensor):\n",
    "    \"\"\"\n",
    "    Flatten x_tensor to (Batch Size, Flattened Image Size)\n",
    "    : x_tensor: A tensor of size (Batch Size, ...), where ... are the image dimensions.\n",
    "    : return: A tensor of size (Batch Size, Flattened Image Size).\n",
    "    \"\"\"\n",
    "    # TODO: Implement Function\n",
    "    shape = x_tensor.get_shape().as_list()    \n",
    "    return tf.reshape(x_tensor, [-1, np.prod(shape[1:])])\n",
    "\n",
    "\"\"\"\n",
    "DON'T MODIFY ANYTHING IN THIS CELL THAT IS BELOW THIS LINE\n",
    "\"\"\"\n",
    "tests.test_flatten(flatten)"
   ]
  },
  {
   "cell_type": "markdown",
   "metadata": {
    "deletable": true,
    "editable": true
   },
   "source": [
    "### Fully-Connected Layer\n",
    "Implement the `fully_conn` function to apply a fully connected layer to `x_tensor` with the shape (*Batch Size*, *num_outputs*). Shortcut option: you can use classes from the [TensorFlow Layers](https://www.tensorflow.org/api_docs/python/tf/layers) or [TensorFlow Layers (contrib)](https://www.tensorflow.org/api_guides/python/contrib.layers) packages for this layer. For more of a challenge, only use other TensorFlow packages."
   ]
  },
  {
   "cell_type": "code",
   "execution_count": 41,
   "metadata": {
    "collapsed": false,
    "deletable": true,
    "editable": true
   },
   "outputs": [
    {
     "name": "stdout",
     "output_type": "stream",
     "text": [
      "Tests Passed\n"
     ]
    }
   ],
   "source": [
    "def fully_conn(x_tensor, num_outputs):\n",
    "    \"\"\"\n",
    "    Apply a fully connected layer to x_tensor using weight and bias\n",
    "    : x_tensor: A 2-D tensor where the first dimension is batch size.\n",
    "    : num_outputs: The number of output that the new tensor should be.\n",
    "    : return: A 2-D tensor where the second dimension is num_outputs.\n",
    "    \"\"\"\n",
    "    # TODO: Implement Function\n",
    "    shape=x_tensor.get_shape().as_list()\n",
    "    bias=tf.Variable(tf.zeros(num_outputs))\n",
    "    weights=tf.Variable(tf.random_normal([shape[-1],num_outputs]))\n",
    "    return tf.nn.relu(tf.add(tf.matmul(x_tensor,weights),bias))\n",
    "\n",
    "\n",
    "\"\"\"\n",
    "DON'T MODIFY ANYTHING IN THIS CELL THAT IS BELOW THIS LINE\n",
    "\"\"\"\n",
    "tests.test_fully_conn(fully_conn)"
   ]
  },
  {
   "cell_type": "markdown",
   "metadata": {
    "deletable": true,
    "editable": true
   },
   "source": [
    "### Output Layer\n",
    "Implement the `output` function to apply a fully connected layer to `x_tensor` with the shape (*Batch Size*, *num_outputs*). Shortcut option: you can use classes from the [TensorFlow Layers](https://www.tensorflow.org/api_docs/python/tf/layers) or [TensorFlow Layers (contrib)](https://www.tensorflow.org/api_guides/python/contrib.layers) packages for this layer. For more of a challenge, only use other TensorFlow packages.\n",
    "\n",
    "**Note:** Activation, softmax, or cross entropy should **not** be applied to this."
   ]
  },
  {
   "cell_type": "code",
   "execution_count": 42,
   "metadata": {
    "collapsed": false,
    "deletable": true,
    "editable": true
   },
   "outputs": [
    {
     "name": "stdout",
     "output_type": "stream",
     "text": [
      "Tests Passed\n"
     ]
    }
   ],
   "source": [
    "def output(x_tensor, num_outputs):\n",
    "    \"\"\"\n",
    "    Apply a output layer to x_tensor using weight and bias\n",
    "    : x_tensor: A 2-D tensor where the first dimension is batch size.\n",
    "    : num_outputs: The number of output that the new tensor should be.\n",
    "    : return: A 2-D tensor where the second dimension is num_outputs.\n",
    "    \"\"\"\n",
    "    # TODO: Implement Function\n",
    "    shape=x_tensor.get_shape().as_list()\n",
    "    bias=tf.Variable(tf.zeros(num_outputs))\n",
    "    weight=tf.Variable(tf.random_normal([shape[-1],num_outputs]))\n",
    "    \n",
    "    return tf.add(tf.matmul(x_tensor,weight),bias)\n",
    "\n",
    "\n",
    "\"\"\"\n",
    "DON'T MODIFY ANYTHING IN THIS CELL THAT IS BELOW THIS LINE\n",
    "\"\"\"\n",
    "tests.test_output(output)"
   ]
  },
  {
   "cell_type": "markdown",
   "metadata": {
    "deletable": true,
    "editable": true
   },
   "source": [
    "### Create Convolutional Model\n",
    "Implement the function `conv_net` to create a convolutional neural network model. The function takes in a batch of images, `x`, and outputs logits.  Use the layers you created above to create this model:\n",
    "\n",
    "* Apply 1, 2, or 3 Convolution and Max Pool layers\n",
    "* Apply a Flatten Layer\n",
    "* Apply 1, 2, or 3 Fully Connected Layers\n",
    "* Apply an Output Layer\n",
    "* Return the output\n",
    "* Apply [TensorFlow's Dropout](https://www.tensorflow.org/api_docs/python/tf/nn/dropout) to one or more layers in the model using `keep_prob`. "
   ]
  },
  {
   "cell_type": "code",
   "execution_count": 45,
   "metadata": {
    "collapsed": false,
    "deletable": true,
    "editable": true
   },
   "outputs": [
    {
     "name": "stdout",
     "output_type": "stream",
     "text": [
      "Neural Network Built!\n"
     ]
    }
   ],
   "source": [
    "def conv_net(x, keep_prob):\n",
    "    \"\"\"\n",
    "    Create a convolutional neural network model\n",
    "    : x: Placeholder tensor that holds image data.\n",
    "    : keep_prob: Placeholder tensor that hold dropout keep probability.\n",
    "    : return: Tensor that represents logits\n",
    "    \"\"\"\n",
    "    # TODO: Apply 1, 2, or 3 Convolution and Max Pool layers\n",
    "    #    Play around with different number of outputs, kernel size and stride\n",
    "    # Function Definition from Above:\n",
    "    #    conv2d_maxpool(x_tensor, conv_num_outputs, conv_ksize, conv_strides, pool_ksize, pool_strides)\n",
    "    \n",
    "    #mod=conv2d_maxpool(x,conv_num_outputs=64,conv_ksize=(4,4),conv_strides=(1,1),pool_ksize=(2,2),pool_strides=(1,1))\n",
    "    mod=conv2d_maxpool(x,conv_num_outputs=32,conv_ksize=(5,5),conv_strides=(1,1),pool_ksize=(3,3),pool_strides=(1,1))\n",
    "    \n",
    "    tf.nn.dropout(mod,keep_prob=keep_prob)\n",
    "\n",
    "    # TODO: Apply a Flatten Layer\n",
    "    # Function Definition from Above:\n",
    "    #   flatten(x_tensor)\n",
    "    \n",
    "    mod=flatten(mod)\n",
    "\n",
    "    # TODO: Apply 1, 2, or 3 Fully Connected Layers\n",
    "    #    Play around with different number of outputs\n",
    "    # Function Definition from Above:\n",
    "    #   fully_conn(x_tensor, num_outputs)\n",
    "    mod=fully_conn(mod,300)\n",
    "    tf.nn.dropout(mod,keep_prob=keep_prob)\n",
    "    mod=fully_conn(mod,200)\n",
    "    tf.nn.dropout(mod,keep_prob=keep_prob)\n",
    "    \n",
    "    # TODO: Apply an Output Layer\n",
    "    #    Set this to the number of classes\n",
    "    # Function Definition from Above:\n",
    "    #   output(x_tensor, num_outputs)    \n",
    "    \n",
    "    # TODO: return output\n",
    "    return output(mod,10)\n",
    "\n",
    "\n",
    "\"\"\"\n",
    "DON'T MODIFY ANYTHING IN THIS CELL THAT IS BELOW THIS LINE\n",
    "\"\"\"\n",
    "\n",
    "##############################\n",
    "## Build the Neural Network ##\n",
    "##############################\n",
    "\n",
    "# Remove previous weights, bias, inputs, etc..\n",
    "tf.reset_default_graph()\n",
    "\n",
    "# Inputs\n",
    "x = neural_net_image_input((32, 32, 3))\n",
    "y = neural_net_label_input(10)\n",
    "keep_prob = neural_net_keep_prob_input()\n",
    "\n",
    "# Model\n",
    "logits = conv_net(x, keep_prob)\n",
    "\n",
    "# Name logits Tensor, so that is can be loaded from disk after training\n",
    "logits = tf.identity(logits, name='logits')\n",
    "\n",
    "# Loss and Optimizer\n",
    "cost = tf.reduce_mean(tf.nn.softmax_cross_entropy_with_logits(logits=logits, labels=y))\n",
    "optimizer = tf.train.AdamOptimizer().minimize(cost)\n",
    "\n",
    "# Accuracy\n",
    "correct_pred = tf.equal(tf.argmax(logits, 1), tf.argmax(y, 1))\n",
    "accuracy = tf.reduce_mean(tf.cast(correct_pred, tf.float32), name='accuracy')\n",
    "\n",
    "tests.test_conv_net(conv_net)"
   ]
  },
  {
   "cell_type": "markdown",
   "metadata": {
    "deletable": true,
    "editable": true
   },
   "source": [
    "## Train the Neural Network\n",
    "### Single Optimization\n",
    "Implement the function `train_neural_network` to do a single optimization.  The optimization should use `optimizer` to optimize in `session` with a `feed_dict` of the following:\n",
    "* `x` for image input\n",
    "* `y` for labels\n",
    "* `keep_prob` for keep probability for dropout\n",
    "\n",
    "This function will be called for each batch, so `tf.global_variables_initializer()` has already been called.\n",
    "\n",
    "Note: Nothing needs to be returned. This function is only optimizing the neural network."
   ]
  },
  {
   "cell_type": "code",
   "execution_count": 48,
   "metadata": {
    "collapsed": false,
    "deletable": true,
    "editable": true
   },
   "outputs": [
    {
     "name": "stdout",
     "output_type": "stream",
     "text": [
      "Tests Passed\n"
     ]
    }
   ],
   "source": [
    "def train_neural_network(session, optimizer, keep_probability, feature_batch, label_batch):\n",
    "    \"\"\"\n",
    "    Optimize the session on a batch of images and labels\n",
    "    : session: Current TensorFlow session\n",
    "    : optimizer: TensorFlow optimizer function\n",
    "    : keep_probability: keep probability\n",
    "    : feature_batch: Batch of Numpy image data\n",
    "    : label_batch: Batch of Numpy label data\n",
    "    \"\"\"\n",
    "    # TODO: Implement Function\n",
    "    session.run(optimizer, feed_dict={x:feature_batch,y:label_batch,keep_prob:keep_probability})\n",
    "\n",
    "\n",
    "\"\"\"\n",
    "DON'T MODIFY ANYTHING IN THIS CELL THAT IS BELOW THIS LINE\n",
    "\"\"\"\n",
    "tests.test_train_nn(train_neural_network)"
   ]
  },
  {
   "cell_type": "markdown",
   "metadata": {
    "deletable": true,
    "editable": true
   },
   "source": [
    "### Show Stats\n",
    "Implement the function `print_stats` to print loss and validation accuracy.  Use the global variables `valid_features` and `valid_labels` to calculate validation accuracy.  Use a keep probability of `1.0` to calculate the loss and validation accuracy."
   ]
  },
  {
   "cell_type": "code",
   "execution_count": 49,
   "metadata": {
    "collapsed": false,
    "deletable": true,
    "editable": true
   },
   "outputs": [],
   "source": [
    "def print_stats(session, feature_batch, label_batch, cost, accuracy):\n",
    "    \"\"\"\n",
    "    Print information about loss and validation accuracy\n",
    "    : session: Current TensorFlow session\n",
    "    : feature_batch: Batch of Numpy image data\n",
    "    : label_batch: Batch of Numpy label data\n",
    "    : cost: TensorFlow cost function\n",
    "    : accuracy: TensorFlow accuracy function\n",
    "    \"\"\"\n",
    "    # TODO: Implement Function\n",
    "    cost=session.run(cost,feed_dict={x:feature_batch,y:label_batch,keep_prob:1.0})\n",
    "    acc=session.run(accuracy,feed_dict={x:feature_batch,y:label_batch,keep_prob:1.0})\n",
    "    print(\"cost:{0} - validation_accuracy:{1}\".format(cost,acc))"
   ]
  },
  {
   "cell_type": "markdown",
   "metadata": {
    "deletable": true,
    "editable": true
   },
   "source": [
    "### Hyperparameters\n",
    "Tune the following parameters:\n",
    "* Set `epochs` to the number of iterations until the network stops learning or start overfitting\n",
    "* Set `batch_size` to the highest number that your machine has memory for.  Most people set them to common sizes of memory:\n",
    " * 64\n",
    " * 128\n",
    " * 256\n",
    " * ...\n",
    "* Set `keep_probability` to the probability of keeping a node using dropout"
   ]
  },
  {
   "cell_type": "code",
   "execution_count": 50,
   "metadata": {
    "collapsed": true,
    "deletable": true,
    "editable": true
   },
   "outputs": [],
   "source": [
    "# TODO: Tune Parameters\n",
    "epochs = 50\n",
    "batch_size = 128\n",
    "keep_probability = 0.50"
   ]
  },
  {
   "cell_type": "markdown",
   "metadata": {
    "deletable": true,
    "editable": true
   },
   "source": [
    "### Train on a Single CIFAR-10 Batch\n",
    "Instead of training the neural network on all the CIFAR-10 batches of data, let's use a single batch. This should save time while you iterate on the model to get a better accuracy.  Once the final validation accuracy is 50% or greater, run the model on all the data in the next section."
   ]
  },
  {
   "cell_type": "code",
   "execution_count": 51,
   "metadata": {
    "collapsed": false,
    "deletable": true,
    "editable": true
   },
   "outputs": [
    {
     "name": "stdout",
     "output_type": "stream",
     "text": [
      "Checking the Training on a Single Batch...\n",
      "Epoch  1, CIFAR-10 Batch 1:  cost:8591.599609375 - validation_accuracy:0.25\n",
      "Epoch  2, CIFAR-10 Batch 1:  cost:5895.36962890625 - validation_accuracy:0.25\n",
      "Epoch  3, CIFAR-10 Batch 1:  cost:5389.9638671875 - validation_accuracy:0.3500000238418579\n",
      "Epoch  4, CIFAR-10 Batch 1:  cost:4157.1416015625 - validation_accuracy:0.42500001192092896\n",
      "Epoch  5, CIFAR-10 Batch 1:  cost:3507.913330078125 - validation_accuracy:0.42500001192092896\n",
      "Epoch  6, CIFAR-10 Batch 1:  cost:2626.1357421875 - validation_accuracy:0.42500001192092896\n",
      "Epoch  7, CIFAR-10 Batch 1:  cost:2563.424072265625 - validation_accuracy:0.40000003576278687\n",
      "Epoch  8, CIFAR-10 Batch 1:  cost:2084.12646484375 - validation_accuracy:0.5\n",
      "Epoch  9, CIFAR-10 Batch 1:  cost:1771.4639892578125 - validation_accuracy:0.6000000238418579\n",
      "Epoch 10, CIFAR-10 Batch 1:  cost:1480.529296875 - validation_accuracy:0.574999988079071\n",
      "Epoch 11, CIFAR-10 Batch 1:  cost:1001.0228271484375 - validation_accuracy:0.625\n",
      "Epoch 12, CIFAR-10 Batch 1:  cost:732.7533569335938 - validation_accuracy:0.6500000357627869\n",
      "Epoch 13, CIFAR-10 Batch 1:  cost:482.0972595214844 - validation_accuracy:0.7500000596046448\n",
      "Epoch 14, CIFAR-10 Batch 1:  cost:420.58251953125 - validation_accuracy:0.7250000238418579\n",
      "Epoch 15, CIFAR-10 Batch 1:  cost:453.3629455566406 - validation_accuracy:0.7250000238418579\n",
      "Epoch 16, CIFAR-10 Batch 1:  cost:339.511474609375 - validation_accuracy:0.75\n",
      "Epoch 17, CIFAR-10 Batch 1:  cost:445.27191162109375 - validation_accuracy:0.7250000238418579\n",
      "Epoch 18, CIFAR-10 Batch 1:  cost:1083.9365234375 - validation_accuracy:0.6250000596046448\n",
      "Epoch 19, CIFAR-10 Batch 1:  cost:471.58026123046875 - validation_accuracy:0.7749999761581421\n",
      "Epoch 20, CIFAR-10 Batch 1:  cost:269.249755859375 - validation_accuracy:0.8250000476837158\n",
      "Epoch 21, CIFAR-10 Batch 1:  cost:231.17672729492188 - validation_accuracy:0.8500000238418579\n",
      "Epoch 22, CIFAR-10 Batch 1:  cost:229.68960571289062 - validation_accuracy:0.8750000596046448\n",
      "Epoch 23, CIFAR-10 Batch 1:  cost:134.7090606689453 - validation_accuracy:0.9000000357627869\n",
      "Epoch 24, CIFAR-10 Batch 1:  cost:247.3314208984375 - validation_accuracy:0.8500000238418579\n",
      "Epoch 25, CIFAR-10 Batch 1:  cost:232.2271270751953 - validation_accuracy:0.8250000476837158\n",
      "Epoch 26, CIFAR-10 Batch 1:  cost:287.14996337890625 - validation_accuracy:0.8500000238418579\n",
      "Epoch 27, CIFAR-10 Batch 1:  cost:257.7579040527344 - validation_accuracy:0.800000011920929\n",
      "Epoch 28, CIFAR-10 Batch 1:  cost:74.85259246826172 - validation_accuracy:0.9000000357627869\n",
      "Epoch 29, CIFAR-10 Batch 1:  cost:51.00042724609375 - validation_accuracy:0.9000000357627869\n",
      "Epoch 30, CIFAR-10 Batch 1:  cost:36.12434005737305 - validation_accuracy:0.925000011920929\n",
      "Epoch 31, CIFAR-10 Batch 1:  cost:85.33816528320312 - validation_accuracy:0.824999988079071\n",
      "Epoch 32, CIFAR-10 Batch 1:  cost:166.84422302246094 - validation_accuracy:0.824999988079071\n",
      "Epoch 33, CIFAR-10 Batch 1:  cost:130.59185791015625 - validation_accuracy:0.8500000834465027\n",
      "Epoch 34, CIFAR-10 Batch 1:  cost:75.58876037597656 - validation_accuracy:0.925000011920929\n",
      "Epoch 35, CIFAR-10 Batch 1:  cost:157.6862030029297 - validation_accuracy:0.8500000238418579\n",
      "Epoch 36, CIFAR-10 Batch 1:  cost:82.70000457763672 - validation_accuracy:0.9000000357627869\n",
      "Epoch 37, CIFAR-10 Batch 1:  cost:42.452362060546875 - validation_accuracy:0.949999988079071\n",
      "Epoch 38, CIFAR-10 Batch 1:  cost:16.15262222290039 - validation_accuracy:0.949999988079071\n",
      "Epoch 39, CIFAR-10 Batch 1:  cost:15.932971000671387 - validation_accuracy:0.9749999642372131\n",
      "Epoch 40, CIFAR-10 Batch 1:  cost:27.75971794128418 - validation_accuracy:0.9000000357627869\n",
      "Epoch 41, CIFAR-10 Batch 1:  cost:0.0 - validation_accuracy:1.0\n",
      "Epoch 42, CIFAR-10 Batch 1:  cost:19.288862228393555 - validation_accuracy:0.949999988079071\n",
      "Epoch 43, CIFAR-10 Batch 1:  cost:0.0 - validation_accuracy:1.0\n",
      "Epoch 44, CIFAR-10 Batch 1:  cost:71.39202117919922 - validation_accuracy:0.9249999523162842\n",
      "Epoch 45, CIFAR-10 Batch 1:  cost:123.73307800292969 - validation_accuracy:0.8999999761581421\n",
      "Epoch 46, CIFAR-10 Batch 1:  cost:71.88487243652344 - validation_accuracy:0.9249999523162842\n",
      "Epoch 47, CIFAR-10 Batch 1:  cost:12.014439582824707 - validation_accuracy:0.949999988079071\n",
      "Epoch 48, CIFAR-10 Batch 1:  cost:15.668405532836914 - validation_accuracy:0.925000011920929\n",
      "Epoch 49, CIFAR-10 Batch 1:  cost:0.0 - validation_accuracy:1.0\n",
      "Epoch 50, CIFAR-10 Batch 1:  cost:0.0 - validation_accuracy:1.0\n"
     ]
    }
   ],
   "source": [
    "\"\"\"\n",
    "DON'T MODIFY ANYTHING IN THIS CELL\n",
    "\"\"\"\n",
    "print('Checking the Training on a Single Batch...')\n",
    "with tf.Session() as sess:\n",
    "    # Initializing the variables\n",
    "    sess.run(tf.global_variables_initializer())\n",
    "    \n",
    "    # Training cycle\n",
    "    for epoch in range(epochs):\n",
    "        batch_i = 1\n",
    "        for batch_features, batch_labels in helper.load_preprocess_training_batch(batch_i, batch_size):\n",
    "            train_neural_network(sess, optimizer, keep_probability, batch_features, batch_labels)\n",
    "        print('Epoch {:>2}, CIFAR-10 Batch {}:  '.format(epoch + 1, batch_i), end='')\n",
    "        print_stats(sess, batch_features, batch_labels, cost, accuracy)"
   ]
  },
  {
   "cell_type": "markdown",
   "metadata": {
    "deletable": true,
    "editable": true
   },
   "source": [
    "### Fully Train the Model\n",
    "Now that you got a good accuracy with a single CIFAR-10 batch, try it with all five batches."
   ]
  },
  {
   "cell_type": "code",
   "execution_count": 52,
   "metadata": {
    "collapsed": false,
    "deletable": true,
    "editable": true
   },
   "outputs": [
    {
     "name": "stdout",
     "output_type": "stream",
     "text": [
      "Training...\n",
      "Epoch  1, CIFAR-10 Batch 1:  cost:12444.791015625 - validation_accuracy:0.25\n",
      "Epoch  1, CIFAR-10 Batch 2:  cost:8806.0458984375 - validation_accuracy:0.22499999403953552\n",
      "Epoch  1, CIFAR-10 Batch 3:  cost:7891.96435546875 - validation_accuracy:0.22500000894069672\n",
      "Epoch  1, CIFAR-10 Batch 4:  cost:6226.62744140625 - validation_accuracy:0.2750000059604645\n",
      "Epoch  1, CIFAR-10 Batch 5:  cost:5487.2939453125 - validation_accuracy:0.20000000298023224\n",
      "Epoch  2, CIFAR-10 Batch 1:  cost:5045.90185546875 - validation_accuracy:0.45000001788139343\n",
      "Epoch  2, CIFAR-10 Batch 2:  cost:3411.28955078125 - validation_accuracy:0.42500001192092896\n",
      "Epoch  2, CIFAR-10 Batch 3:  cost:3111.970703125 - validation_accuracy:0.3500000238418579\n",
      "Epoch  2, CIFAR-10 Batch 4:  cost:2925.384765625 - validation_accuracy:0.45000001788139343\n",
      "Epoch  2, CIFAR-10 Batch 5:  cost:3176.76025390625 - validation_accuracy:0.2750000059604645\n",
      "Epoch  3, CIFAR-10 Batch 1:  cost:2940.160400390625 - validation_accuracy:0.44999998807907104\n",
      "Epoch  3, CIFAR-10 Batch 2:  cost:2453.81689453125 - validation_accuracy:0.5000000596046448\n",
      "Epoch  3, CIFAR-10 Batch 3:  cost:1871.766357421875 - validation_accuracy:0.42500001192092896\n",
      "Epoch  3, CIFAR-10 Batch 4:  cost:2046.6326904296875 - validation_accuracy:0.44999998807907104\n",
      "Epoch  3, CIFAR-10 Batch 5:  cost:2371.010009765625 - validation_accuracy:0.30000001192092896\n",
      "Epoch  4, CIFAR-10 Batch 1:  cost:2167.090087890625 - validation_accuracy:0.550000011920929\n",
      "Epoch  4, CIFAR-10 Batch 2:  cost:1748.5936279296875 - validation_accuracy:0.5\n",
      "Epoch  4, CIFAR-10 Batch 3:  cost:1431.290283203125 - validation_accuracy:0.550000011920929\n",
      "Epoch  4, CIFAR-10 Batch 4:  cost:1591.9259033203125 - validation_accuracy:0.5249999761581421\n",
      "Epoch  4, CIFAR-10 Batch 5:  cost:1669.263427734375 - validation_accuracy:0.42499998211860657\n",
      "Epoch  5, CIFAR-10 Batch 1:  cost:1712.0438232421875 - validation_accuracy:0.5249999761581421\n",
      "Epoch  5, CIFAR-10 Batch 2:  cost:1142.229248046875 - validation_accuracy:0.7000000476837158\n",
      "Epoch  5, CIFAR-10 Batch 3:  cost:1099.970703125 - validation_accuracy:0.6000000238418579\n",
      "Epoch  5, CIFAR-10 Batch 4:  cost:1167.5303955078125 - validation_accuracy:0.4749999940395355\n",
      "Epoch  5, CIFAR-10 Batch 5:  cost:1177.47021484375 - validation_accuracy:0.5\n",
      "Epoch  6, CIFAR-10 Batch 1:  cost:1523.028564453125 - validation_accuracy:0.5750000476837158\n",
      "Epoch  6, CIFAR-10 Batch 2:  cost:1010.0205688476562 - validation_accuracy:0.7250000238418579\n",
      "Epoch  6, CIFAR-10 Batch 3:  cost:913.5684814453125 - validation_accuracy:0.574999988079071\n",
      "Epoch  6, CIFAR-10 Batch 4:  cost:784.0357666015625 - validation_accuracy:0.6499999761581421\n",
      "Epoch  6, CIFAR-10 Batch 5:  cost:940.4681396484375 - validation_accuracy:0.574999988079071\n",
      "Epoch  7, CIFAR-10 Batch 1:  cost:1387.116943359375 - validation_accuracy:0.625\n",
      "Epoch  7, CIFAR-10 Batch 2:  cost:494.9810791015625 - validation_accuracy:0.7500000596046448\n",
      "Epoch  7, CIFAR-10 Batch 3:  cost:587.3394775390625 - validation_accuracy:0.574999988079071\n",
      "Epoch  7, CIFAR-10 Batch 4:  cost:623.8571166992188 - validation_accuracy:0.6000000238418579\n",
      "Epoch  7, CIFAR-10 Batch 5:  cost:637.8611450195312 - validation_accuracy:0.6000000238418579\n",
      "Epoch  8, CIFAR-10 Batch 1:  cost:1036.811279296875 - validation_accuracy:0.6500000357627869\n",
      "Epoch  8, CIFAR-10 Batch 2:  cost:587.1993408203125 - validation_accuracy:0.675000011920929\n",
      "Epoch  8, CIFAR-10 Batch 3:  cost:649.2578125 - validation_accuracy:0.574999988079071\n",
      "Epoch  8, CIFAR-10 Batch 4:  cost:541.0401000976562 - validation_accuracy:0.6500000357627869\n",
      "Epoch  8, CIFAR-10 Batch 5:  cost:564.9631958007812 - validation_accuracy:0.7000000476837158\n",
      "Epoch  9, CIFAR-10 Batch 1:  cost:943.4862060546875 - validation_accuracy:0.6499999761581421\n",
      "Epoch  9, CIFAR-10 Batch 2:  cost:295.82061767578125 - validation_accuracy:0.7749999761581421\n",
      "Epoch  9, CIFAR-10 Batch 3:  cost:435.031005859375 - validation_accuracy:0.625\n",
      "Epoch  9, CIFAR-10 Batch 4:  cost:493.7584533691406 - validation_accuracy:0.625\n",
      "Epoch  9, CIFAR-10 Batch 5:  cost:586.4540405273438 - validation_accuracy:0.625\n",
      "Epoch 10, CIFAR-10 Batch 1:  cost:767.3795166015625 - validation_accuracy:0.6500000357627869\n",
      "Epoch 10, CIFAR-10 Batch 2:  cost:208.7926483154297 - validation_accuracy:0.7750000357627869\n",
      "Epoch 10, CIFAR-10 Batch 3:  cost:297.9156799316406 - validation_accuracy:0.675000011920929\n",
      "Epoch 10, CIFAR-10 Batch 4:  cost:399.06591796875 - validation_accuracy:0.699999988079071\n",
      "Epoch 10, CIFAR-10 Batch 5:  cost:257.7236022949219 - validation_accuracy:0.699999988079071\n",
      "Epoch 11, CIFAR-10 Batch 1:  cost:574.0645751953125 - validation_accuracy:0.7250000238418579\n",
      "Epoch 11, CIFAR-10 Batch 2:  cost:249.85821533203125 - validation_accuracy:0.75\n",
      "Epoch 11, CIFAR-10 Batch 3:  cost:260.01177978515625 - validation_accuracy:0.7000000476837158\n",
      "Epoch 11, CIFAR-10 Batch 4:  cost:308.6503601074219 - validation_accuracy:0.75\n",
      "Epoch 11, CIFAR-10 Batch 5:  cost:283.25909423828125 - validation_accuracy:0.7750000357627869\n",
      "Epoch 12, CIFAR-10 Batch 1:  cost:472.93719482421875 - validation_accuracy:0.7250000238418579\n",
      "Epoch 12, CIFAR-10 Batch 2:  cost:83.93440246582031 - validation_accuracy:0.925000011920929\n",
      "Epoch 12, CIFAR-10 Batch 3:  cost:153.9701385498047 - validation_accuracy:0.8000000715255737\n",
      "Epoch 12, CIFAR-10 Batch 4:  cost:324.90679931640625 - validation_accuracy:0.7250000238418579\n",
      "Epoch 12, CIFAR-10 Batch 5:  cost:275.1521911621094 - validation_accuracy:0.75\n",
      "Epoch 13, CIFAR-10 Batch 1:  cost:451.428955078125 - validation_accuracy:0.675000011920929\n",
      "Epoch 13, CIFAR-10 Batch 2:  cost:82.55528259277344 - validation_accuracy:0.875\n",
      "Epoch 13, CIFAR-10 Batch 3:  cost:140.70188903808594 - validation_accuracy:0.8500000238418579\n",
      "Epoch 13, CIFAR-10 Batch 4:  cost:265.9424743652344 - validation_accuracy:0.875\n",
      "Epoch 13, CIFAR-10 Batch 5:  cost:207.8396759033203 - validation_accuracy:0.7750000357627869\n",
      "Epoch 14, CIFAR-10 Batch 1:  cost:302.568115234375 - validation_accuracy:0.75\n",
      "Epoch 14, CIFAR-10 Batch 2:  cost:208.174072265625 - validation_accuracy:0.7250000238418579\n",
      "Epoch 14, CIFAR-10 Batch 3:  cost:198.26898193359375 - validation_accuracy:0.7749999761581421\n",
      "Epoch 14, CIFAR-10 Batch 4:  cost:187.12045288085938 - validation_accuracy:0.8500000238418579\n",
      "Epoch 14, CIFAR-10 Batch 5:  cost:105.24726867675781 - validation_accuracy:0.824999988079071\n",
      "Epoch 15, CIFAR-10 Batch 1:  cost:197.9561767578125 - validation_accuracy:0.75\n",
      "Epoch 15, CIFAR-10 Batch 2:  cost:148.4222869873047 - validation_accuracy:0.8250000476837158\n",
      "Epoch 15, CIFAR-10 Batch 3:  cost:122.01236724853516 - validation_accuracy:0.8500000834465027\n",
      "Epoch 15, CIFAR-10 Batch 4:  cost:131.58726501464844 - validation_accuracy:0.8500000238418579\n",
      "Epoch 15, CIFAR-10 Batch 5:  cost:50.85823059082031 - validation_accuracy:0.8250000476837158\n",
      "Epoch 16, CIFAR-10 Batch 1:  cost:180.66075134277344 - validation_accuracy:0.8750000596046448\n",
      "Epoch 16, CIFAR-10 Batch 2:  cost:86.77125549316406 - validation_accuracy:0.8750000596046448\n",
      "Epoch 16, CIFAR-10 Batch 3:  cost:76.34382629394531 - validation_accuracy:0.925000011920929\n",
      "Epoch 16, CIFAR-10 Batch 4:  cost:109.88056945800781 - validation_accuracy:0.8999999761581421\n",
      "Epoch 16, CIFAR-10 Batch 5:  cost:44.4052734375 - validation_accuracy:0.8750000596046448\n",
      "Epoch 17, CIFAR-10 Batch 1:  cost:187.4547576904297 - validation_accuracy:0.75\n",
      "Epoch 17, CIFAR-10 Batch 2:  cost:58.499473571777344 - validation_accuracy:0.925000011920929\n",
      "Epoch 17, CIFAR-10 Batch 3:  cost:89.21607971191406 - validation_accuracy:0.9000000357627869\n",
      "Epoch 17, CIFAR-10 Batch 4:  cost:97.205322265625 - validation_accuracy:0.925000011920929\n",
      "Epoch 17, CIFAR-10 Batch 5:  cost:94.28439331054688 - validation_accuracy:0.8000000715255737\n",
      "Epoch 18, CIFAR-10 Batch 1:  cost:133.60845947265625 - validation_accuracy:0.7749999761581421\n",
      "Epoch 18, CIFAR-10 Batch 2:  cost:70.8307876586914 - validation_accuracy:0.8500000238418579\n",
      "Epoch 18, CIFAR-10 Batch 3:  cost:58.329322814941406 - validation_accuracy:0.8500000834465027\n",
      "Epoch 18, CIFAR-10 Batch 4:  cost:132.31500244140625 - validation_accuracy:0.8500000238418579\n",
      "Epoch 18, CIFAR-10 Batch 5:  cost:90.83739471435547 - validation_accuracy:0.75\n",
      "Epoch 19, CIFAR-10 Batch 1:  cost:117.60670471191406 - validation_accuracy:0.7999999523162842\n",
      "Epoch 19, CIFAR-10 Batch 2:  cost:19.259923934936523 - validation_accuracy:0.8750000596046448\n",
      "Epoch 19, CIFAR-10 Batch 3:  cost:60.04711151123047 - validation_accuracy:0.875\n",
      "Epoch 19, CIFAR-10 Batch 4:  cost:120.73854064941406 - validation_accuracy:0.824999988079071\n",
      "Epoch 19, CIFAR-10 Batch 5:  cost:49.37060546875 - validation_accuracy:0.8250000476837158\n",
      "Epoch 20, CIFAR-10 Batch 1:  cost:90.23698425292969 - validation_accuracy:0.8000000715255737\n",
      "Epoch 20, CIFAR-10 Batch 2:  cost:30.93603515625 - validation_accuracy:0.8750000596046448\n",
      "Epoch 20, CIFAR-10 Batch 3:  cost:36.17939376831055 - validation_accuracy:0.925000011920929\n",
      "Epoch 20, CIFAR-10 Batch 4:  cost:54.02629852294922 - validation_accuracy:0.925000011920929\n",
      "Epoch 20, CIFAR-10 Batch 5:  cost:30.439002990722656 - validation_accuracy:0.9000000357627869\n",
      "Epoch 21, CIFAR-10 Batch 1:  cost:93.81523895263672 - validation_accuracy:0.7750000357627869\n",
      "Epoch 21, CIFAR-10 Batch 2:  cost:22.966236114501953 - validation_accuracy:0.9000000357627869\n",
      "Epoch 21, CIFAR-10 Batch 3:  cost:44.33668518066406 - validation_accuracy:0.8750000596046448\n",
      "Epoch 21, CIFAR-10 Batch 4:  cost:83.64930725097656 - validation_accuracy:0.9000000357627869\n",
      "Epoch 21, CIFAR-10 Batch 5:  cost:25.513099670410156 - validation_accuracy:0.949999988079071\n",
      "Epoch 22, CIFAR-10 Batch 1:  cost:60.827972412109375 - validation_accuracy:0.8250000476837158\n",
      "Epoch 22, CIFAR-10 Batch 2:  cost:34.79705810546875 - validation_accuracy:0.8500000238418579\n",
      "Epoch 22, CIFAR-10 Batch 3:  cost:31.49612808227539 - validation_accuracy:0.925000011920929\n",
      "Epoch 22, CIFAR-10 Batch 4:  cost:87.31680297851562 - validation_accuracy:0.800000011920929\n",
      "Epoch 22, CIFAR-10 Batch 5:  cost:23.788185119628906 - validation_accuracy:0.925000011920929\n",
      "Epoch 23, CIFAR-10 Batch 1:  cost:31.085134506225586 - validation_accuracy:0.8750000596046448\n",
      "Epoch 23, CIFAR-10 Batch 2:  cost:9.118555068969727 - validation_accuracy:0.9749999642372131\n",
      "Epoch 23, CIFAR-10 Batch 3:  cost:43.253150939941406 - validation_accuracy:0.949999988079071\n",
      "Epoch 23, CIFAR-10 Batch 4:  cost:51.46709060668945 - validation_accuracy:0.875\n",
      "Epoch 23, CIFAR-10 Batch 5:  cost:15.636829376220703 - validation_accuracy:0.949999988079071\n",
      "Epoch 24, CIFAR-10 Batch 1:  cost:26.426185607910156 - validation_accuracy:0.9000000357627869\n",
      "Epoch 24, CIFAR-10 Batch 2:  cost:33.97467041015625 - validation_accuracy:0.8750000596046448\n",
      "Epoch 24, CIFAR-10 Batch 3:  cost:25.694366455078125 - validation_accuracy:0.9000000357627869\n",
      "Epoch 24, CIFAR-10 Batch 4:  cost:17.441980361938477 - validation_accuracy:0.925000011920929\n",
      "Epoch 24, CIFAR-10 Batch 5:  cost:3.55688214302063 - validation_accuracy:0.949999988079071\n",
      "Epoch 25, CIFAR-10 Batch 1:  cost:24.80670928955078 - validation_accuracy:0.8999999761581421\n",
      "Epoch 25, CIFAR-10 Batch 2:  cost:10.214953422546387 - validation_accuracy:0.925000011920929\n",
      "Epoch 25, CIFAR-10 Batch 3:  cost:29.767908096313477 - validation_accuracy:0.925000011920929\n",
      "Epoch 25, CIFAR-10 Batch 4:  cost:11.624292373657227 - validation_accuracy:0.925000011920929\n",
      "Epoch 25, CIFAR-10 Batch 5:  cost:42.35894012451172 - validation_accuracy:0.8500000834465027\n",
      "Epoch 26, CIFAR-10 Batch 1:  cost:27.7044677734375 - validation_accuracy:0.8999999761581421\n",
      "Epoch 26, CIFAR-10 Batch 2:  cost:22.36236572265625 - validation_accuracy:0.925000011920929\n",
      "Epoch 26, CIFAR-10 Batch 3:  cost:28.847570419311523 - validation_accuracy:0.8750000596046448\n",
      "Epoch 26, CIFAR-10 Batch 4:  cost:10.86478328704834 - validation_accuracy:0.9749999642372131\n",
      "Epoch 26, CIFAR-10 Batch 5:  cost:91.87675476074219 - validation_accuracy:0.8250000476837158\n",
      "Epoch 27, CIFAR-10 Batch 1:  cost:35.791961669921875 - validation_accuracy:0.875\n",
      "Epoch 27, CIFAR-10 Batch 2:  cost:27.424341201782227 - validation_accuracy:0.9000000357627869\n",
      "Epoch 27, CIFAR-10 Batch 3:  cost:20.222309112548828 - validation_accuracy:0.949999988079071\n",
      "Epoch 27, CIFAR-10 Batch 4:  cost:22.671119689941406 - validation_accuracy:0.9000000357627869\n",
      "Epoch 27, CIFAR-10 Batch 5:  cost:19.54322052001953 - validation_accuracy:0.9000000357627869\n",
      "Epoch 28, CIFAR-10 Batch 1:  cost:31.274097442626953 - validation_accuracy:0.875\n",
      "Epoch 28, CIFAR-10 Batch 2:  cost:10.37335205078125 - validation_accuracy:0.949999988079071\n",
      "Epoch 28, CIFAR-10 Batch 3:  cost:6.416363716125488 - validation_accuracy:0.949999988079071\n",
      "Epoch 28, CIFAR-10 Batch 4:  cost:3.3526611328125 - validation_accuracy:0.949999988079071\n",
      "Epoch 28, CIFAR-10 Batch 5:  cost:6.370136260986328 - validation_accuracy:0.925000011920929\n",
      "Epoch 29, CIFAR-10 Batch 1:  cost:45.60626220703125 - validation_accuracy:0.8750000596046448\n",
      "Epoch 29, CIFAR-10 Batch 2:  cost:8.018762588500977 - validation_accuracy:0.925000011920929\n",
      "Epoch 29, CIFAR-10 Batch 3:  cost:0.5516715049743652 - validation_accuracy:0.949999988079071\n",
      "Epoch 29, CIFAR-10 Batch 4:  cost:0.623151421546936 - validation_accuracy:0.9749999642372131\n",
      "Epoch 29, CIFAR-10 Batch 5:  cost:33.52566146850586 - validation_accuracy:0.8250000476837158\n",
      "Epoch 30, CIFAR-10 Batch 1:  cost:38.62736129760742 - validation_accuracy:0.9000000357627869\n",
      "Epoch 30, CIFAR-10 Batch 2:  cost:5.813135147094727 - validation_accuracy:0.949999988079071\n",
      "Epoch 30, CIFAR-10 Batch 3:  cost:0.0 - validation_accuracy:1.0\n",
      "Epoch 30, CIFAR-10 Batch 4:  cost:7.679448127746582 - validation_accuracy:0.949999988079071\n",
      "Epoch 30, CIFAR-10 Batch 5:  cost:10.107147216796875 - validation_accuracy:0.9000000357627869\n",
      "Epoch 31, CIFAR-10 Batch 1:  cost:21.18506622314453 - validation_accuracy:0.9000000357627869\n",
      "Epoch 31, CIFAR-10 Batch 2:  cost:20.695362091064453 - validation_accuracy:0.949999988079071\n",
      "Epoch 31, CIFAR-10 Batch 3:  cost:3.7739014625549316 - validation_accuracy:0.9749999642372131\n",
      "Epoch 31, CIFAR-10 Batch 4:  cost:5.285253524780273 - validation_accuracy:0.925000011920929\n",
      "Epoch 31, CIFAR-10 Batch 5:  cost:7.289700031280518 - validation_accuracy:0.8750000596046448\n",
      "Epoch 32, CIFAR-10 Batch 1:  cost:28.875411987304688 - validation_accuracy:0.9000000357627869\n",
      "Epoch 32, CIFAR-10 Batch 2:  cost:0.6829960346221924 - validation_accuracy:0.949999988079071\n",
      "Epoch 32, CIFAR-10 Batch 3:  cost:0.0 - validation_accuracy:1.0\n",
      "Epoch 32, CIFAR-10 Batch 4:  cost:8.160717964172363 - validation_accuracy:0.9749999642372131\n",
      "Epoch 32, CIFAR-10 Batch 5:  cost:15.25421142578125 - validation_accuracy:0.949999988079071\n",
      "Epoch 33, CIFAR-10 Batch 1:  cost:4.182769775390625 - validation_accuracy:0.9000000357627869\n",
      "Epoch 33, CIFAR-10 Batch 2:  cost:4.553393840789795 - validation_accuracy:0.9749999642372131\n",
      "Epoch 33, CIFAR-10 Batch 3:  cost:8.884674072265625 - validation_accuracy:0.925000011920929\n",
      "Epoch 33, CIFAR-10 Batch 4:  cost:19.859670639038086 - validation_accuracy:0.925000011920929\n",
      "Epoch 33, CIFAR-10 Batch 5:  cost:17.290380477905273 - validation_accuracy:0.949999988079071\n",
      "Epoch 34, CIFAR-10 Batch 1:  cost:1.963616967201233 - validation_accuracy:0.9750000238418579\n",
      "Epoch 34, CIFAR-10 Batch 2:  cost:0.801318347454071 - validation_accuracy:0.9749999642372131\n",
      "Epoch 34, CIFAR-10 Batch 3:  cost:7.805883884429932 - validation_accuracy:0.949999988079071\n",
      "Epoch 34, CIFAR-10 Batch 4:  cost:0.0 - validation_accuracy:1.0\n",
      "Epoch 34, CIFAR-10 Batch 5:  cost:6.343060493469238 - validation_accuracy:0.925000011920929\n",
      "Epoch 35, CIFAR-10 Batch 1:  cost:9.048723220825195 - validation_accuracy:0.9749999642372131\n",
      "Epoch 35, CIFAR-10 Batch 2:  cost:1.327767252922058 - validation_accuracy:0.925000011920929\n",
      "Epoch 35, CIFAR-10 Batch 3:  cost:0.0 - validation_accuracy:1.0\n",
      "Epoch 35, CIFAR-10 Batch 4:  cost:6.077368259429932 - validation_accuracy:0.9750000238418579\n",
      "Epoch 35, CIFAR-10 Batch 5:  cost:9.3438720703125 - validation_accuracy:0.949999988079071\n",
      "Epoch 36, CIFAR-10 Batch 1:  cost:0.0 - validation_accuracy:1.0\n",
      "Epoch 36, CIFAR-10 Batch 2:  cost:0.10120916366577148 - validation_accuracy:0.9749999642372131\n",
      "Epoch 36, CIFAR-10 Batch 3:  cost:6.232409954071045 - validation_accuracy:0.9749999642372131\n",
      "Epoch 36, CIFAR-10 Batch 4:  cost:33.91715621948242 - validation_accuracy:0.925000011920929\n",
      "Epoch 36, CIFAR-10 Batch 5:  cost:8.607141494750977 - validation_accuracy:0.949999988079071\n",
      "Epoch 37, CIFAR-10 Batch 1:  cost:0.0 - validation_accuracy:1.0\n",
      "Epoch 37, CIFAR-10 Batch 2:  cost:1.2519409656524658 - validation_accuracy:0.9749999642372131\n",
      "Epoch 37, CIFAR-10 Batch 3:  cost:2.6025331020355225 - validation_accuracy:0.9749999642372131\n",
      "Epoch 37, CIFAR-10 Batch 4:  cost:18.561767578125 - validation_accuracy:0.925000011920929\n",
      "Epoch 37, CIFAR-10 Batch 5:  cost:6.523370742797852 - validation_accuracy:0.949999988079071\n",
      "Epoch 38, CIFAR-10 Batch 1:  cost:9.957550048828125 - validation_accuracy:0.949999988079071\n",
      "Epoch 38, CIFAR-10 Batch 2:  cost:0.0 - validation_accuracy:1.0\n",
      "Epoch 38, CIFAR-10 Batch 3:  cost:1.226190209388733 - validation_accuracy:0.9749999642372131\n",
      "Epoch 38, CIFAR-10 Batch 4:  cost:0.0 - validation_accuracy:1.0\n",
      "Epoch 38, CIFAR-10 Batch 5:  cost:4.816210746765137 - validation_accuracy:0.925000011920929\n",
      "Epoch 39, CIFAR-10 Batch 1:  cost:2.9082398414611816 - validation_accuracy:0.949999988079071\n",
      "Epoch 39, CIFAR-10 Batch 2:  cost:0.0 - validation_accuracy:1.0\n",
      "Epoch 39, CIFAR-10 Batch 3:  cost:1.3582581281661987 - validation_accuracy:0.949999988079071\n",
      "Epoch 39, CIFAR-10 Batch 4:  cost:0.24677863717079163 - validation_accuracy:0.9749999642372131\n",
      "Epoch 39, CIFAR-10 Batch 5:  cost:0.0 - validation_accuracy:1.0\n",
      "Epoch 40, CIFAR-10 Batch 1:  cost:1.2321138381958008 - validation_accuracy:0.949999988079071\n",
      "Epoch 40, CIFAR-10 Batch 2:  cost:2.183941602706909 - validation_accuracy:0.9749999642372131\n",
      "Epoch 40, CIFAR-10 Batch 3:  cost:0.0 - validation_accuracy:1.0\n",
      "Epoch 40, CIFAR-10 Batch 4:  cost:3.5116212368011475 - validation_accuracy:0.9749999642372131\n",
      "Epoch 40, CIFAR-10 Batch 5:  cost:3.3253114223480225 - validation_accuracy:0.9749999642372131\n",
      "Epoch 41, CIFAR-10 Batch 1:  cost:0.43489381670951843 - validation_accuracy:0.9749999642372131\n",
      "Epoch 41, CIFAR-10 Batch 2:  cost:6.302047252655029 - validation_accuracy:0.925000011920929\n",
      "Epoch 41, CIFAR-10 Batch 3:  cost:5.960463678178485e-09 - validation_accuracy:1.0\n",
      "Epoch 41, CIFAR-10 Batch 4:  cost:15.314074516296387 - validation_accuracy:0.949999988079071\n",
      "Epoch 41, CIFAR-10 Batch 5:  cost:6.546985149383545 - validation_accuracy:0.9749999642372131\n",
      "Epoch 42, CIFAR-10 Batch 1:  cost:1.5485047101974487 - validation_accuracy:0.9749999642372131\n",
      "Epoch 42, CIFAR-10 Batch 2:  cost:9.994470019591972e-05 - validation_accuracy:1.0\n",
      "Epoch 42, CIFAR-10 Batch 3:  cost:0.0 - validation_accuracy:1.0\n",
      "Epoch 42, CIFAR-10 Batch 4:  cost:1.026864767074585 - validation_accuracy:0.949999988079071\n",
      "Epoch 42, CIFAR-10 Batch 5:  cost:0.00011743399227270856 - validation_accuracy:1.0\n",
      "Epoch 43, CIFAR-10 Batch 1:  cost:0.17798279225826263 - validation_accuracy:0.9750000238418579\n",
      "Epoch 43, CIFAR-10 Batch 2:  cost:10.99045467376709 - validation_accuracy:0.9000000357627869\n",
      "Epoch 43, CIFAR-10 Batch 3:  cost:4.501867771148682 - validation_accuracy:0.9749999642372131\n",
      "Epoch 43, CIFAR-10 Batch 4:  cost:9.517041206359863 - validation_accuracy:0.949999988079071\n",
      "Epoch 43, CIFAR-10 Batch 5:  cost:1.8586517572402954 - validation_accuracy:0.9749999642372131\n",
      "Epoch 44, CIFAR-10 Batch 1:  cost:6.202081680297852 - validation_accuracy:0.949999988079071\n",
      "Epoch 44, CIFAR-10 Batch 2:  cost:5.84332275390625 - validation_accuracy:0.949999988079071\n",
      "Epoch 44, CIFAR-10 Batch 3:  cost:0.13022737205028534 - validation_accuracy:0.9749999642372131\n",
      "Epoch 44, CIFAR-10 Batch 4:  cost:0.0 - validation_accuracy:1.0\n",
      "Epoch 44, CIFAR-10 Batch 5:  cost:4.899940013885498 - validation_accuracy:0.925000011920929\n",
      "Epoch 45, CIFAR-10 Batch 1:  cost:4.5382399559021 - validation_accuracy:0.949999988079071\n",
      "Epoch 45, CIFAR-10 Batch 2:  cost:2.4705810546875 - validation_accuracy:0.949999988079071\n",
      "Epoch 45, CIFAR-10 Batch 3:  cost:7.839630126953125 - validation_accuracy:0.925000011920929\n",
      "Epoch 45, CIFAR-10 Batch 4:  cost:4.748803615570068 - validation_accuracy:0.9749999642372131\n",
      "Epoch 45, CIFAR-10 Batch 5:  cost:0.0 - validation_accuracy:1.0\n",
      "Epoch 46, CIFAR-10 Batch 1:  cost:1.262276291847229 - validation_accuracy:0.949999988079071\n",
      "Epoch 46, CIFAR-10 Batch 2:  cost:0.806689441204071 - validation_accuracy:0.9749999642372131\n",
      "Epoch 46, CIFAR-10 Batch 3:  cost:4.724023342132568 - validation_accuracy:0.9749999642372131\n",
      "Epoch 46, CIFAR-10 Batch 4:  cost:1.6689244830558891e-07 - validation_accuracy:1.0\n",
      "Epoch 46, CIFAR-10 Batch 5:  cost:0.05758104473352432 - validation_accuracy:0.9749999642372131\n",
      "Epoch 47, CIFAR-10 Batch 1:  cost:1.079461693763733 - validation_accuracy:0.9749999642372131\n",
      "Epoch 47, CIFAR-10 Batch 2:  cost:2.448486328125 - validation_accuracy:0.9749999642372131\n",
      "Epoch 47, CIFAR-10 Batch 3:  cost:0.0 - validation_accuracy:1.0\n",
      "Epoch 47, CIFAR-10 Batch 4:  cost:2.7636475563049316 - validation_accuracy:0.949999988079071\n",
      "Epoch 47, CIFAR-10 Batch 5:  cost:5.061341285705566 - validation_accuracy:0.9749999642372131\n",
      "Epoch 48, CIFAR-10 Batch 1:  cost:5.136835098266602 - validation_accuracy:0.949999988079071\n",
      "Epoch 48, CIFAR-10 Batch 2:  cost:0.0 - validation_accuracy:1.0\n",
      "Epoch 48, CIFAR-10 Batch 3:  cost:0.0 - validation_accuracy:1.0\n",
      "Epoch 48, CIFAR-10 Batch 4:  cost:0.0 - validation_accuracy:1.0\n",
      "Epoch 48, CIFAR-10 Batch 5:  cost:0.0 - validation_accuracy:1.0\n",
      "Epoch 49, CIFAR-10 Batch 1:  cost:3.1857056617736816 - validation_accuracy:0.9750000238418579\n",
      "Epoch 49, CIFAR-10 Batch 2:  cost:2.5629864808252023e-07 - validation_accuracy:1.0\n",
      "Epoch 49, CIFAR-10 Batch 3:  cost:0.0 - validation_accuracy:1.0\n",
      "Epoch 49, CIFAR-10 Batch 4:  cost:0.876361072063446 - validation_accuracy:0.9750000238418579\n",
      "Epoch 49, CIFAR-10 Batch 5:  cost:0.001529689528979361 - validation_accuracy:1.0\n",
      "Epoch 50, CIFAR-10 Batch 1:  cost:0.0004322056192904711 - validation_accuracy:1.0\n",
      "Epoch 50, CIFAR-10 Batch 2:  cost:0.0 - validation_accuracy:1.0\n",
      "Epoch 50, CIFAR-10 Batch 3:  cost:1.317407250404358 - validation_accuracy:0.9749999642372131\n",
      "Epoch 50, CIFAR-10 Batch 4:  cost:0.0 - validation_accuracy:1.0\n",
      "Epoch 50, CIFAR-10 Batch 5:  cost:1.2599273920059204 - validation_accuracy:0.9749999642372131\n"
     ]
    }
   ],
   "source": [
    "\"\"\"\n",
    "DON'T MODIFY ANYTHING IN THIS CELL\n",
    "\"\"\"\n",
    "save_model_path = './image_classification'\n",
    "\n",
    "print('Training...')\n",
    "with tf.Session() as sess:\n",
    "    # Initializing the variables\n",
    "    sess.run(tf.global_variables_initializer())\n",
    "    \n",
    "    # Training cycle\n",
    "    for epoch in range(epochs):\n",
    "        # Loop over all batches\n",
    "        n_batches = 5\n",
    "        for batch_i in range(1, n_batches + 1):\n",
    "            for batch_features, batch_labels in helper.load_preprocess_training_batch(batch_i, batch_size):\n",
    "                train_neural_network(sess, optimizer, keep_probability, batch_features, batch_labels)\n",
    "            print('Epoch {:>2}, CIFAR-10 Batch {}:  '.format(epoch + 1, batch_i), end='')\n",
    "            print_stats(sess, batch_features, batch_labels, cost, accuracy)\n",
    "            \n",
    "    # Save Model\n",
    "    saver = tf.train.Saver()\n",
    "    save_path = saver.save(sess, save_model_path)"
   ]
  },
  {
   "cell_type": "markdown",
   "metadata": {
    "deletable": true,
    "editable": true
   },
   "source": [
    "# Checkpoint\n",
    "The model has been saved to disk.\n",
    "## Test Model\n",
    "Test your model against the test dataset.  This will be your final accuracy. You should have an accuracy greater than 50%. If you don't, keep tweaking the model architecture and parameters."
   ]
  },
  {
   "cell_type": "code",
   "execution_count": 53,
   "metadata": {
    "collapsed": false,
    "deletable": true,
    "editable": true
   },
   "outputs": [
    {
     "name": "stdout",
     "output_type": "stream",
     "text": [
      "Testing Accuracy: 0.5388647151898734\n",
      "\n"
     ]
    },
    {
     "data": {
      "image/png": "[encoded data removed]",
      "text/plain": [
       "<matplotlib.figure.Figure at 0x7f7423148a58>"
      ]
     },
     "metadata": {
      "image/png": {
       "height": 319,
       "width": 349
      }
     },
     "output_type": "display_data"
    }
   ],
   "source": [
    "\"\"\"\n",
    "DON'T MODIFY ANYTHING IN THIS CELL\n",
    "\"\"\"\n",
    "%matplotlib inline\n",
    "%config InlineBackend.figure_format = 'retina'\n",
    "\n",
    "import tensorflow as tf\n",
    "import pickle\n",
    "import helper\n",
    "import random\n",
    "\n",
    "# Set batch size if not already set\n",
    "try:\n",
    "    if batch_size:\n",
    "        pass\n",
    "except NameError:\n",
    "    batch_size = 64\n",
    "\n",
    "save_model_path = './image_classification'\n",
    "n_samples = 4\n",
    "top_n_predictions = 3\n",
    "\n",
    "def test_model():\n",
    "    \"\"\"\n",
    "    Test the saved model against the test dataset\n",
    "    \"\"\"\n",
    "\n",
    "    test_features, test_labels = pickle.load(open('preprocess_training.p', mode='rb'))\n",
    "    loaded_graph = tf.Graph()\n",
    "\n",
    "    with tf.Session(graph=loaded_graph) as sess:\n",
    "        # Load model\n",
    "        loader = tf.train.import_meta_graph(save_model_path + '.meta')\n",
    "        loader.restore(sess, save_model_path)\n",
    "\n",
    "        # Get Tensors from loaded model\n",
    "        loaded_x = loaded_graph.get_tensor_by_name('x:0')\n",
    "        loaded_y = loaded_graph.get_tensor_by_name('y:0')\n",
    "        loaded_keep_prob = loaded_graph.get_tensor_by_name('keep_prob:0')\n",
    "        loaded_logits = loaded_graph.get_tensor_by_name('logits:0')\n",
    "        loaded_acc = loaded_graph.get_tensor_by_name('accuracy:0')\n",
    "        \n",
    "        # Get accuracy in batches for memory limitations\n",
    "        test_batch_acc_total = 0\n",
    "        test_batch_count = 0\n",
    "        \n",
    "        for train_feature_batch, train_label_batch in helper.batch_features_labels(test_features, test_labels, batch_size):\n",
    "            test_batch_acc_total += sess.run(\n",
    "                loaded_acc,\n",
    "                feed_dict={loaded_x: train_feature_batch, loaded_y: train_label_batch, loaded_keep_prob: 1.0})\n",
    "            test_batch_count += 1\n",
    "\n",
    "        print('Testing Accuracy: {}\\n'.format(test_batch_acc_total/test_batch_count))\n",
    "\n",
    "        # Print Random Samples\n",
    "        random_test_features, random_test_labels = tuple(zip(*random.sample(list(zip(test_features, test_labels)), n_samples)))\n",
    "        random_test_predictions = sess.run(\n",
    "            tf.nn.top_k(tf.nn.softmax(loaded_logits), top_n_predictions),\n",
    "            feed_dict={loaded_x: random_test_features, loaded_y: random_test_labels, loaded_keep_prob: 1.0})\n",
    "        helper.display_image_predictions(random_test_features, random_test_labels, random_test_predictions)\n",
    "\n",
    "\n",
    "test_model()"
   ]
  },
  {
   "cell_type": "markdown",
   "metadata": {
    "deletable": true,
    "editable": true
   },
   "source": [
    "## Why 50-70% Accuracy?\n",
    "You might be wondering why you can't get an accuracy any higher. First things first, 50% isn't bad for a simple CNN.  Pure guessing would get you 10% accuracy. However, you might notice people are getting scores [well above 70%](http://rodrigob.github.io/are_we_there_yet/build/classification_datasets_results.html#43494641522d3130).  That's because we haven't taught you all there is to know about neural networks. We still need to cover a few more techniques.\n",
    "## Submitting This Project\n",
    "When submitting this project, make sure to run all the cells before saving the notebook.  Save the notebook file as \"dlnd_image_classification.ipynb\" and save it as a HTML file under \"File\" -> \"Download as\".  Include the \"helper.py\" and \"problem_unittests.py\" files in your submission."
   ]
  }
 ],
 "metadata": {
  "kernelspec": {
   "display_name": "Python 3",
   "language": "python",
   "name": "python3"
  },
  "language_info": {
   "codemirror_mode": {
    "name": "ipython",
    "version": 3
   },
   "file_extension": ".py",
   "mimetype": "text/x-python",
   "name": "python",
   "nbconvert_exporter": "python",
   "pygments_lexer": "ipython3",
   "version": "3.5.3"
  }
 },
 "nbformat": 4,
 "nbformat_minor": 0
}
